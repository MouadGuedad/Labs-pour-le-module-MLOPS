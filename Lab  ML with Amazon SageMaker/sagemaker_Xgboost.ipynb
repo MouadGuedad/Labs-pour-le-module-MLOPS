{
 "cells": [
  {
   "cell_type": "code",
   "execution_count": 2,
   "metadata": {
    "tags": []
   },
   "outputs": [
    {
     "name": "stderr",
     "output_type": "stream",
     "text": [
      "/home/ec2-user/anaconda3/envs/python3/lib/python3.10/site-packages/pandas/core/computation/expressions.py:21: UserWarning: Pandas requires version '2.8.0' or newer of 'numexpr' (version '2.7.3' currently installed).\n",
      "  from pandas.core.computation.check import NUMEXPR_INSTALLED\n"
     ]
    }
   ],
   "source": [
    "import pandas as pd\n",
    "\n",
    "dataset = pd.read_csv('housing.csv')"
   ]
  },
  {
   "cell_type": "code",
   "execution_count": 6,
   "metadata": {
    "tags": []
   },
   "outputs": [
    {
     "name": "stdout",
     "output_type": "stream",
     "text": [
      "(506, 13)\n"
     ]
    },
    {
     "data": {
      "text/html": [
       "<div>\n",
       "<style scoped>\n",
       "    .dataframe tbody tr th:only-of-type {\n",
       "        vertical-align: middle;\n",
       "    }\n",
       "\n",
       "    .dataframe tbody tr th {\n",
       "        vertical-align: top;\n",
       "    }\n",
       "\n",
       "    .dataframe thead th {\n",
       "        text-align: right;\n",
       "    }\n",
       "</style>\n",
       "<table border=\"1\" class=\"dataframe\">\n",
       "  <thead>\n",
       "    <tr style=\"text-align: right;\">\n",
       "      <th></th>\n",
       "      <th>medv</th>\n",
       "      <th>crim</th>\n",
       "      <th>zn</th>\n",
       "      <th>indus</th>\n",
       "      <th>chas</th>\n",
       "      <th>nox</th>\n",
       "      <th>age</th>\n",
       "      <th>rm</th>\n",
       "      <th>dis</th>\n",
       "      <th>rad</th>\n",
       "      <th>tax</th>\n",
       "      <th>ptratio</th>\n",
       "      <th>lstat</th>\n",
       "    </tr>\n",
       "  </thead>\n",
       "  <tbody>\n",
       "    <tr>\n",
       "      <th>0</th>\n",
       "      <td>24.0</td>\n",
       "      <td>0.00632</td>\n",
       "      <td>18.0</td>\n",
       "      <td>2.31</td>\n",
       "      <td>0</td>\n",
       "      <td>0.538</td>\n",
       "      <td>6.575</td>\n",
       "      <td>65.2</td>\n",
       "      <td>4.0900</td>\n",
       "      <td>1</td>\n",
       "      <td>296.0</td>\n",
       "      <td>15.3</td>\n",
       "      <td>4.98</td>\n",
       "    </tr>\n",
       "    <tr>\n",
       "      <th>1</th>\n",
       "      <td>21.6</td>\n",
       "      <td>0.02731</td>\n",
       "      <td>0.0</td>\n",
       "      <td>7.07</td>\n",
       "      <td>0</td>\n",
       "      <td>0.469</td>\n",
       "      <td>6.421</td>\n",
       "      <td>78.9</td>\n",
       "      <td>4.9671</td>\n",
       "      <td>2</td>\n",
       "      <td>242.0</td>\n",
       "      <td>17.8</td>\n",
       "      <td>9.14</td>\n",
       "    </tr>\n",
       "    <tr>\n",
       "      <th>2</th>\n",
       "      <td>34.7</td>\n",
       "      <td>0.02729</td>\n",
       "      <td>0.0</td>\n",
       "      <td>7.07</td>\n",
       "      <td>0</td>\n",
       "      <td>0.469</td>\n",
       "      <td>7.185</td>\n",
       "      <td>61.1</td>\n",
       "      <td>4.9671</td>\n",
       "      <td>2</td>\n",
       "      <td>242.0</td>\n",
       "      <td>17.8</td>\n",
       "      <td>4.03</td>\n",
       "    </tr>\n",
       "    <tr>\n",
       "      <th>3</th>\n",
       "      <td>33.4</td>\n",
       "      <td>0.03237</td>\n",
       "      <td>0.0</td>\n",
       "      <td>2.18</td>\n",
       "      <td>0</td>\n",
       "      <td>0.458</td>\n",
       "      <td>6.998</td>\n",
       "      <td>45.8</td>\n",
       "      <td>6.0622</td>\n",
       "      <td>3</td>\n",
       "      <td>222.0</td>\n",
       "      <td>18.7</td>\n",
       "      <td>2.94</td>\n",
       "    </tr>\n",
       "    <tr>\n",
       "      <th>4</th>\n",
       "      <td>36.2</td>\n",
       "      <td>0.06905</td>\n",
       "      <td>0.0</td>\n",
       "      <td>2.18</td>\n",
       "      <td>0</td>\n",
       "      <td>0.458</td>\n",
       "      <td>7.147</td>\n",
       "      <td>54.2</td>\n",
       "      <td>6.0622</td>\n",
       "      <td>3</td>\n",
       "      <td>222.0</td>\n",
       "      <td>18.7</td>\n",
       "      <td>5.33</td>\n",
       "    </tr>\n",
       "  </tbody>\n",
       "</table>\n",
       "</div>"
      ],
      "text/plain": [
       "   medv     crim    zn  indus  chas    nox    age    rm     dis  rad    tax  \\\n",
       "0  24.0  0.00632  18.0   2.31     0  0.538  6.575  65.2  4.0900    1  296.0   \n",
       "1  21.6  0.02731   0.0   7.07     0  0.469  6.421  78.9  4.9671    2  242.0   \n",
       "2  34.7  0.02729   0.0   7.07     0  0.469  7.185  61.1  4.9671    2  242.0   \n",
       "3  33.4  0.03237   0.0   2.18     0  0.458  6.998  45.8  6.0622    3  222.0   \n",
       "4  36.2  0.06905   0.0   2.18     0  0.458  7.147  54.2  6.0622    3  222.0   \n",
       "\n",
       "   ptratio  lstat  \n",
       "0     15.3   4.98  \n",
       "1     17.8   9.14  \n",
       "2     17.8   4.03  \n",
       "3     18.7   2.94  \n",
       "4     18.7   5.33  "
      ]
     },
     "execution_count": 6,
     "metadata": {},
     "output_type": "execute_result"
    }
   ],
   "source": [
    "print(dataset.shape)\n",
    "dataset[:5]"
   ]
  },
  {
   "cell_type": "code",
   "execution_count": 7,
   "metadata": {
    "tags": []
   },
   "outputs": [],
   "source": [
    "# Move 'medv' column to front\n",
    "dataset = pd.concat([dataset['medv'], dataset.drop(['medv'], axis=1)], axis=1)"
   ]
  },
  {
   "cell_type": "code",
   "execution_count": 8,
   "metadata": {
    "tags": []
   },
   "outputs": [
    {
     "name": "stdout",
     "output_type": "stream",
     "text": [
      "(455, 13)\n",
      "(51, 13)\n"
     ]
    }
   ],
   "source": [
    "from sklearn.model_selection import train_test_split\n",
    "training_dataset, validation_dataset = train_test_split(dataset, test_size=0.1)\n",
    "\n",
    "print(training_dataset.shape)\n",
    "print(validation_dataset.shape)"
   ]
  },
  {
   "cell_type": "code",
   "execution_count": 9,
   "metadata": {
    "tags": []
   },
   "outputs": [],
   "source": [
    "training_dataset.to_csv('training_dataset.csv', index=False, header=False)\n",
    "validation_dataset.to_csv('validation_dataset.csv', index=False, header=False)"
   ]
  },
  {
   "cell_type": "code",
   "execution_count": 10,
   "metadata": {
    "tags": []
   },
   "outputs": [
    {
     "name": "stdout",
     "output_type": "stream",
     "text": [
      "sagemaker.config INFO - Not applying SDK defaults from location: /etc/xdg/sagemaker/config.yaml\n",
      "sagemaker.config INFO - Not applying SDK defaults from location: /home/ec2-user/.config/sagemaker/config.yaml\n",
      "2.199.0\n",
      "sagemaker.config INFO - Not applying SDK defaults from location: /etc/xdg/sagemaker/config.yaml\n",
      "sagemaker.config INFO - Not applying SDK defaults from location: /home/ec2-user/.config/sagemaker/config.yaml\n",
      "s3://sagemaker-us-east-1-289456105026/boston-housing/input/training/training_dataset.csv\n",
      "s3://sagemaker-us-east-1-289456105026/boston-housing/input/validation/validation_dataset.csv\n"
     ]
    }
   ],
   "source": [
    "import sagemaker\n",
    "\n",
    "print(sagemaker.__version__)\n",
    "\n",
    "sess = sagemaker.Session()\n",
    "bucket = sess.default_bucket()\n",
    "\n",
    "prefix = 'boston-housing'\n",
    "training_data_path = sess.upload_data(path='training_dataset.csv', key_prefix=prefix + '/input/training')\n",
    "validation_data_path = sess.upload_data(path='validation_dataset.csv', key_prefix=prefix + '/input/validation')\n",
    "\n",
    "print(training_data_path)\n",
    "print(validation_data_path)"
   ]
  },
  {
   "cell_type": "code",
   "execution_count": 11,
   "metadata": {
    "tags": []
   },
   "outputs": [
    {
     "name": "stdout",
     "output_type": "stream",
     "text": [
      "683313688378.dkr.ecr.us-east-1.amazonaws.com/sagemaker-xgboost:1.2-1\n",
      "sagemaker.config INFO - Not applying SDK defaults from location: /etc/xdg/sagemaker/config.yaml\n",
      "sagemaker.config INFO - Not applying SDK defaults from location: /home/ec2-user/.config/sagemaker/config.yaml\n",
      "sagemaker.config INFO - Not applying SDK defaults from location: /etc/xdg/sagemaker/config.yaml\n",
      "sagemaker.config INFO - Not applying SDK defaults from location: /home/ec2-user/.config/sagemaker/config.yaml\n"
     ]
    }
   ],
   "source": [
    "import boto3\n",
    "from sagemaker import image_uris\n",
    "\n",
    "region = boto3.Session().region_name\n",
    "\n",
    "# Use XGBoost container\n",
    "container = image_uris.retrieve(\"xgboost\", region, version=\"1.2-1\")\n",
    "print(container)\n",
    "\n",
    "\n",
    "from sagemaker.estimator import Estimator\n",
    "\n",
    "role = sagemaker.get_execution_role() \n",
    "\n",
    "# Use XGBoost container\n",
    "container = image_uris.retrieve(\"xgboost\", region, version=\"1.2-1\")\n",
    "\n",
    "xgboost_estimator = Estimator(container,\n",
    "    role=role, \n",
    "    instance_count=1,\n",
    "    instance_type='ml.m5.large',\n",
    "    output_path='s3://{}/{}/output'.format(bucket, prefix)\n",
    ")\n",
    "\n",
    "# Set XGBoost hyperparameters\n",
    "xgboost_estimator.set_hyperparameters(\n",
    "    objective='reg:squarederror',\n",
    "    num_round=100,\n",
    "    max_depth=5,\n",
    "    eta=0.2\n",
    ")\n"
   ]
  },
  {
   "cell_type": "code",
   "execution_count": 12,
   "metadata": {
    "tags": []
   },
   "outputs": [],
   "source": [
    "training_data_channel   = sagemaker.TrainingInput(s3_data=training_data_path, content_type='text/csv')\n",
    "validation_data_channel = sagemaker.TrainingInput(s3_data=validation_data_path, content_type='text/csv')\n",
    "\n",
    "ll_data = {'train': training_data_channel, 'validation': validation_data_channel}"
   ]
  },
  {
   "cell_type": "code",
   "execution_count": 14,
   "metadata": {
    "scrolled": true,
    "tags": []
   },
   "outputs": [
    {
     "name": "stderr",
     "output_type": "stream",
     "text": [
      "INFO:sagemaker:Creating training-job with name: sagemaker-xgboost-2023-12-06-21-58-41-725\n"
     ]
    },
    {
     "name": "stdout",
     "output_type": "stream",
     "text": [
      "2023-12-06 21:58:41 Starting - Starting the training job...\n",
      "2023-12-06 21:58:58 Starting - Preparing the instances for training.........\n",
      "2023-12-06 22:00:19 Downloading - Downloading input data......\n",
      "2023-12-06 22:01:14 Training - Downloading the training image...\n",
      "2023-12-06 22:02:05 Uploading - Uploading generated training model\u001b[34m[2023-12-06 22:01:57.971 ip-10-0-71-196.ec2.internal:7 INFO utils.py:27] RULE_JOB_STOP_SIGNAL_FILENAME: None\u001b[0m\n",
      "\u001b[34mINFO:sagemaker-containers:Imported framework sagemaker_xgboost_container.training\u001b[0m\n",
      "\u001b[34mINFO:sagemaker-containers:Failed to parse hyperparameter objective value reg:squarederror to Json.\u001b[0m\n",
      "\u001b[34mReturning the value itself\u001b[0m\n",
      "\u001b[34mINFO:sagemaker-containers:No GPUs detected (normal if no gpus installed)\u001b[0m\n",
      "\u001b[34mINFO:sagemaker_xgboost_container.training:Running XGBoost Sagemaker in algorithm mode\u001b[0m\n",
      "\u001b[34mINFO:root:Determined delimiter of CSV input is ','\u001b[0m\n",
      "\u001b[34mINFO:root:Determined delimiter of CSV input is ','\u001b[0m\n",
      "\u001b[34mINFO:root:Determined delimiter of CSV input is ','\u001b[0m\n",
      "\u001b[34mINFO:root:Determined delimiter of CSV input is ','\u001b[0m\n",
      "\u001b[34mINFO:root:Single node training.\u001b[0m\n",
      "\u001b[34m[2023-12-06 22:01:58.058 ip-10-0-71-196.ec2.internal:7 INFO json_config.py:91] Creating hook from json_config at /opt/ml/input/config/debughookconfig.json.\u001b[0m\n",
      "\u001b[34m[2023-12-06 22:01:58.058 ip-10-0-71-196.ec2.internal:7 INFO hook.py:199] tensorboard_dir has not been set for the hook. SMDebug will not be exporting tensorboard summaries.\u001b[0m\n",
      "\u001b[34m[2023-12-06 22:01:58.059 ip-10-0-71-196.ec2.internal:7 INFO profiler_config_parser.py:102] User has disabled profiler.\u001b[0m\n",
      "\u001b[34m[2023-12-06 22:01:58.059 ip-10-0-71-196.ec2.internal:7 INFO hook.py:253] Saving to /opt/ml/output/tensors\u001b[0m\n",
      "\u001b[34m[2023-12-06 22:01:58.060 ip-10-0-71-196.ec2.internal:7 INFO state_store.py:77] The checkpoint config file /opt/ml/input/config/checkpointconfig.json does not exist.\u001b[0m\n",
      "\u001b[34mINFO:root:Debug hook created from config\u001b[0m\n",
      "\u001b[34mINFO:root:Train matrix has 455 rows and 12 columns\u001b[0m\n",
      "\u001b[34mINFO:root:Validation matrix has 51 rows\u001b[0m\n",
      "\u001b[34m[0]#011train-rmse:19.17248#011validation-rmse:21.06733\u001b[0m\n",
      "\u001b[34m[2023-12-06 22:01:58.063 ip-10-0-71-196.ec2.internal:7 INFO hook.py:413] Monitoring the collections: metrics\u001b[0m\n",
      "\u001b[34m[2023-12-06 22:01:58.065 ip-10-0-71-196.ec2.internal:7 INFO hook.py:476] Hook is writing from the hook with pid: 7\u001b[0m\n",
      "\u001b[34m[1]#011train-rmse:15.56659#011validation-rmse:17.33393\u001b[0m\n",
      "\u001b[34m[2]#011train-rmse:12.67634#011validation-rmse:14.37292\u001b[0m\n",
      "\u001b[34m[3]#011train-rmse:10.36796#011validation-rmse:12.07620\u001b[0m\n",
      "\u001b[34m[4]#011train-rmse:8.52383#011validation-rmse:10.30950\u001b[0m\n",
      "\u001b[34m[5]#011train-rmse:7.03329#011validation-rmse:8.82394\u001b[0m\n",
      "\u001b[34m[6]#011train-rmse:5.83493#011validation-rmse:7.53733\u001b[0m\n",
      "\u001b[34m[7]#011train-rmse:4.88513#011validation-rmse:6.60865\u001b[0m\n",
      "\u001b[34m[8]#011train-rmse:4.12297#011validation-rmse:5.84763\u001b[0m\n",
      "\u001b[34m[9]#011train-rmse:3.51985#011validation-rmse:5.30354\u001b[0m\n",
      "\u001b[34m[10]#011train-rmse:3.04772#011validation-rmse:4.80941\u001b[0m\n",
      "\u001b[34m[11]#011train-rmse:2.67883#011validation-rmse:4.45372\u001b[0m\n",
      "\u001b[34m[12]#011train-rmse:2.38375#011validation-rmse:4.17747\u001b[0m\n",
      "\u001b[34m[13]#011train-rmse:2.15418#011validation-rmse:3.97545\u001b[0m\n",
      "\u001b[34m[14]#011train-rmse:1.97001#011validation-rmse:3.83306\u001b[0m\n",
      "\u001b[34m[15]#011train-rmse:1.83037#011validation-rmse:3.70959\u001b[0m\n",
      "\u001b[34m[16]#011train-rmse:1.71122#011validation-rmse:3.60368\u001b[0m\n",
      "\u001b[34m[17]#011train-rmse:1.60785#011validation-rmse:3.50864\u001b[0m\n",
      "\u001b[34m[18]#011train-rmse:1.53354#011validation-rmse:3.46228\u001b[0m\n",
      "\u001b[34m[19]#011train-rmse:1.47047#011validation-rmse:3.44143\u001b[0m\n",
      "\u001b[34m[20]#011train-rmse:1.41959#011validation-rmse:3.41816\u001b[0m\n",
      "\u001b[34m[21]#011train-rmse:1.36594#011validation-rmse:3.38176\u001b[0m\n",
      "\u001b[34m[22]#011train-rmse:1.32224#011validation-rmse:3.38762\u001b[0m\n",
      "\u001b[34m[23]#011train-rmse:1.28186#011validation-rmse:3.35358\u001b[0m\n",
      "\u001b[34m[24]#011train-rmse:1.23936#011validation-rmse:3.35289\u001b[0m\n",
      "\u001b[34m[25]#011train-rmse:1.21734#011validation-rmse:3.33010\u001b[0m\n",
      "\u001b[34m[26]#011train-rmse:1.18542#011validation-rmse:3.31469\u001b[0m\n",
      "\u001b[34m[27]#011train-rmse:1.14642#011validation-rmse:3.32324\u001b[0m\n",
      "\u001b[34m[28]#011train-rmse:1.12987#011validation-rmse:3.30363\u001b[0m\n",
      "\u001b[34m[29]#011train-rmse:1.12085#011validation-rmse:3.28748\u001b[0m\n",
      "\u001b[34m[30]#011train-rmse:1.09606#011validation-rmse:3.28216\u001b[0m\n",
      "\u001b[34m[31]#011train-rmse:1.06702#011validation-rmse:3.27621\u001b[0m\n",
      "\u001b[34m[32]#011train-rmse:1.04030#011validation-rmse:3.26629\u001b[0m\n",
      "\u001b[34m[33]#011train-rmse:1.01630#011validation-rmse:3.25167\u001b[0m\n",
      "\u001b[34m[34]#011train-rmse:0.99717#011validation-rmse:3.24518\u001b[0m\n",
      "\u001b[34m[35]#011train-rmse:0.98696#011validation-rmse:3.24018\u001b[0m\n",
      "\u001b[34m[36]#011train-rmse:0.93827#011validation-rmse:3.20952\u001b[0m\n",
      "\u001b[34m[37]#011train-rmse:0.91713#011validation-rmse:3.20513\u001b[0m\n",
      "\u001b[34m[38]#011train-rmse:0.89463#011validation-rmse:3.19691\u001b[0m\n",
      "\u001b[34m[39]#011train-rmse:0.88030#011validation-rmse:3.19041\u001b[0m\n",
      "\u001b[34m[40]#011train-rmse:0.85629#011validation-rmse:3.18124\u001b[0m\n",
      "\u001b[34m[41]#011train-rmse:0.84486#011validation-rmse:3.17481\u001b[0m\n",
      "\u001b[34m[42]#011train-rmse:0.83555#011validation-rmse:3.17468\u001b[0m\n",
      "\u001b[34m[43]#011train-rmse:0.81529#011validation-rmse:3.16262\u001b[0m\n",
      "\u001b[34m[44]#011train-rmse:0.79695#011validation-rmse:3.16093\u001b[0m\n",
      "\u001b[34m[45]#011train-rmse:0.77810#011validation-rmse:3.14507\u001b[0m\n",
      "\u001b[34m[46]#011train-rmse:0.75919#011validation-rmse:3.15217\u001b[0m\n",
      "\u001b[34m[47]#011train-rmse:0.74019#011validation-rmse:3.15085\u001b[0m\n",
      "\u001b[34m[48]#011train-rmse:0.72815#011validation-rmse:3.14524\u001b[0m\n",
      "\u001b[34m[49]#011train-rmse:0.71295#011validation-rmse:3.14104\u001b[0m\n",
      "\u001b[34m[50]#011train-rmse:0.70243#011validation-rmse:3.14405\u001b[0m\n",
      "\u001b[34m[51]#011train-rmse:0.68834#011validation-rmse:3.14530\u001b[0m\n",
      "\u001b[34m[52]#011train-rmse:0.66159#011validation-rmse:3.14321\u001b[0m\n",
      "\u001b[34m[53]#011train-rmse:0.65192#011validation-rmse:3.14274\u001b[0m\n",
      "\u001b[34m[54]#011train-rmse:0.64427#011validation-rmse:3.13775\u001b[0m\n",
      "\u001b[34m[55]#011train-rmse:0.63627#011validation-rmse:3.13501\u001b[0m\n",
      "\u001b[34m[56]#011train-rmse:0.62200#011validation-rmse:3.13775\u001b[0m\n",
      "\u001b[34m[57]#011train-rmse:0.60935#011validation-rmse:3.13618\u001b[0m\n",
      "\u001b[34m[58]#011train-rmse:0.59311#011validation-rmse:3.13439\u001b[0m\n",
      "\u001b[34m[59]#011train-rmse:0.57114#011validation-rmse:3.13345\u001b[0m\n",
      "\u001b[34m[60]#011train-rmse:0.56351#011validation-rmse:3.13375\u001b[0m\n",
      "\u001b[34m[61]#011train-rmse:0.54802#011validation-rmse:3.13355\u001b[0m\n",
      "\u001b[34m[62]#011train-rmse:0.54193#011validation-rmse:3.13109\u001b[0m\n",
      "\u001b[34m[63]#011train-rmse:0.53257#011validation-rmse:3.12320\u001b[0m\n",
      "\u001b[34m[64]#011train-rmse:0.52348#011validation-rmse:3.13617\u001b[0m\n",
      "\u001b[34m[65]#011train-rmse:0.51358#011validation-rmse:3.13596\u001b[0m\n",
      "\u001b[34m[66]#011train-rmse:0.50364#011validation-rmse:3.14496\u001b[0m\n",
      "\u001b[34m[67]#011train-rmse:0.50075#011validation-rmse:3.14391\u001b[0m\n",
      "\u001b[34m[68]#011train-rmse:0.49613#011validation-rmse:3.14713\u001b[0m\n",
      "\u001b[34m[69]#011train-rmse:0.47531#011validation-rmse:3.15113\u001b[0m\n",
      "\u001b[34m[70]#011train-rmse:0.46429#011validation-rmse:3.15122\u001b[0m\n",
      "\u001b[34m[71]#011train-rmse:0.45148#011validation-rmse:3.15558\u001b[0m\n",
      "\u001b[34m[72]#011train-rmse:0.44247#011validation-rmse:3.15920\u001b[0m\n",
      "\u001b[34m[73]#011train-rmse:0.43710#011validation-rmse:3.16081\u001b[0m\n",
      "\u001b[34m[74]#011train-rmse:0.42702#011validation-rmse:3.16080\u001b[0m\n",
      "\u001b[34m[75]#011train-rmse:0.41430#011validation-rmse:3.15672\u001b[0m\n",
      "\u001b[34m[76]#011train-rmse:0.40553#011validation-rmse:3.15509\u001b[0m\n",
      "\u001b[34m[77]#011train-rmse:0.40349#011validation-rmse:3.15381\u001b[0m\n",
      "\u001b[34m[78]#011train-rmse:0.39509#011validation-rmse:3.15739\u001b[0m\n",
      "\u001b[34m[79]#011train-rmse:0.38426#011validation-rmse:3.16066\u001b[0m\n",
      "\u001b[34m[80]#011train-rmse:0.38164#011validation-rmse:3.15824\u001b[0m\n",
      "\u001b[34m[81]#011train-rmse:0.37518#011validation-rmse:3.15385\u001b[0m\n",
      "\u001b[34m[82]#011train-rmse:0.36333#011validation-rmse:3.14916\u001b[0m\n",
      "\u001b[34m[83]#011train-rmse:0.35875#011validation-rmse:3.15354\u001b[0m\n",
      "\u001b[34m[84]#011train-rmse:0.34722#011validation-rmse:3.15534\u001b[0m\n",
      "\u001b[34m[85]#011train-rmse:0.34236#011validation-rmse:3.16412\u001b[0m\n",
      "\u001b[34m[86]#011train-rmse:0.33713#011validation-rmse:3.15985\u001b[0m\n",
      "\u001b[34m[87]#011train-rmse:0.33417#011validation-rmse:3.15760\u001b[0m\n",
      "\u001b[34m[88]#011train-rmse:0.33121#011validation-rmse:3.15866\u001b[0m\n",
      "\u001b[34m[89]#011train-rmse:0.32801#011validation-rmse:3.16209\u001b[0m\n",
      "\u001b[34m[90]#011train-rmse:0.32180#011validation-rmse:3.16126\u001b[0m\n",
      "\u001b[34m[91]#011train-rmse:0.31679#011validation-rmse:3.16288\u001b[0m\n",
      "\u001b[34m[92]#011train-rmse:0.31450#011validation-rmse:3.16243\u001b[0m\n",
      "\u001b[34m[93]#011train-rmse:0.30961#011validation-rmse:3.16299\u001b[0m\n",
      "\u001b[34m[94]#011train-rmse:0.30091#011validation-rmse:3.16414\u001b[0m\n",
      "\u001b[34m[95]#011train-rmse:0.29656#011validation-rmse:3.16928\u001b[0m\n",
      "\u001b[34m[96]#011train-rmse:0.29213#011validation-rmse:3.16858\u001b[0m\n",
      "\u001b[34m[97]#011train-rmse:0.28528#011validation-rmse:3.16911\u001b[0m\n",
      "\u001b[34m[98]#011train-rmse:0.27569#011validation-rmse:3.16493\u001b[0m\n",
      "\u001b[34m[99]#011train-rmse:0.27440#011validation-rmse:3.16468\u001b[0m\n",
      "\n",
      "2023-12-06 22:02:16 Completed - Training job completed\n",
      "Training seconds: 117\n",
      "Billable seconds: 117\n"
     ]
    }
   ],
   "source": [
    "xgboost_estimator.fit(ll_data)"
   ]
  },
  {
   "cell_type": "code",
   "execution_count": 15,
   "metadata": {
    "tags": []
   },
   "outputs": [
    {
     "name": "stdout",
     "output_type": "stream",
     "text": [
      "2023-12-06 22:01:59          0 boston-housing/output/sagemaker-xgboost-2023-12-06-21-58-41-725/debug-output/claim.smd\n",
      "2023-12-06 22:01:59       6276 boston-housing/output/sagemaker-xgboost-2023-12-06-21-58-41-725/debug-output/collections/000000000/worker_0_collections.json\n",
      "2023-12-06 22:01:59        218 boston-housing/output/sagemaker-xgboost-2023-12-06-21-58-41-725/debug-output/events/000000000000/000000000000_worker_0.tfevents\n",
      "2023-12-06 22:01:59        224 boston-housing/output/sagemaker-xgboost-2023-12-06-21-58-41-725/debug-output/events/000000000010/000000000010_worker_0.tfevents\n",
      "2023-12-06 22:01:59        224 boston-housing/output/sagemaker-xgboost-2023-12-06-21-58-41-725/debug-output/events/000000000020/000000000020_worker_0.tfevents\n",
      "2023-12-06 22:01:59        224 boston-housing/output/sagemaker-xgboost-2023-12-06-21-58-41-725/debug-output/events/000000000030/000000000030_worker_0.tfevents\n",
      "2023-12-06 22:01:59        224 boston-housing/output/sagemaker-xgboost-2023-12-06-21-58-41-725/debug-output/events/000000000040/000000000040_worker_0.tfevents\n",
      "2023-12-06 22:01:59        224 boston-housing/output/sagemaker-xgboost-2023-12-06-21-58-41-725/debug-output/events/000000000050/000000000050_worker_0.tfevents\n",
      "2023-12-06 22:01:59        224 boston-housing/output/sagemaker-xgboost-2023-12-06-21-58-41-725/debug-output/events/000000000060/000000000060_worker_0.tfevents\n",
      "2023-12-06 22:01:59        224 boston-housing/output/sagemaker-xgboost-2023-12-06-21-58-41-725/debug-output/events/000000000070/000000000070_worker_0.tfevents\n",
      "2023-12-06 22:01:59        224 boston-housing/output/sagemaker-xgboost-2023-12-06-21-58-41-725/debug-output/events/000000000080/000000000080_worker_0.tfevents\n",
      "2023-12-06 22:01:59        224 boston-housing/output/sagemaker-xgboost-2023-12-06-21-58-41-725/debug-output/events/000000000090/000000000090_worker_0.tfevents\n",
      "2023-12-06 22:01:59        287 boston-housing/output/sagemaker-xgboost-2023-12-06-21-58-41-725/debug-output/index/000000000/000000000000_worker_0.json\n",
      "2023-12-06 22:01:59        288 boston-housing/output/sagemaker-xgboost-2023-12-06-21-58-41-725/debug-output/index/000000000/000000000010_worker_0.json\n",
      "2023-12-06 22:01:59        288 boston-housing/output/sagemaker-xgboost-2023-12-06-21-58-41-725/debug-output/index/000000000/000000000020_worker_0.json\n",
      "2023-12-06 22:01:59        288 boston-housing/output/sagemaker-xgboost-2023-12-06-21-58-41-725/debug-output/index/000000000/000000000030_worker_0.json\n",
      "2023-12-06 22:01:59        288 boston-housing/output/sagemaker-xgboost-2023-12-06-21-58-41-725/debug-output/index/000000000/000000000040_worker_0.json\n",
      "2023-12-06 22:01:59        288 boston-housing/output/sagemaker-xgboost-2023-12-06-21-58-41-725/debug-output/index/000000000/000000000050_worker_0.json\n",
      "2023-12-06 22:01:59        288 boston-housing/output/sagemaker-xgboost-2023-12-06-21-58-41-725/debug-output/index/000000000/000000000060_worker_0.json\n",
      "2023-12-06 22:01:59        288 boston-housing/output/sagemaker-xgboost-2023-12-06-21-58-41-725/debug-output/index/000000000/000000000070_worker_0.json\n",
      "2023-12-06 22:01:59        288 boston-housing/output/sagemaker-xgboost-2023-12-06-21-58-41-725/debug-output/index/000000000/000000000080_worker_0.json\n",
      "2023-12-06 22:01:59        288 boston-housing/output/sagemaker-xgboost-2023-12-06-21-58-41-725/debug-output/index/000000000/000000000090_worker_0.json\n",
      "2023-12-06 22:02:14          0 boston-housing/output/sagemaker-xgboost-2023-12-06-21-58-41-725/debug-output/training_job_end.ts\n",
      "2023-12-06 22:02:13      64901 boston-housing/output/sagemaker-xgboost-2023-12-06-21-58-41-725/output/model.tar.gz\n",
      "2023-12-06 22:02:14          0 boston-housing/output/sagemaker-xgboost-2023-12-06-21-58-41-725/profiler-output/framework/training_job_end.ts\n",
      "2023-12-06 22:02:01      61357 boston-housing/output/sagemaker-xgboost-2023-12-06-21-58-41-725/profiler-output/system/incremental/2023120622/1701900000.algo-1.json\n",
      "2023-12-06 22:02:00     183952 boston-housing/output/sagemaker-xgboost-2023-12-06-21-58-41-725/profiler-output/system/incremental/2023120622/1701900060.algo-1.json\n",
      "2023-12-06 22:02:10      27667 boston-housing/output/sagemaker-xgboost-2023-12-06-21-58-41-725/profiler-output/system/incremental/2023120622/1701900120.algo-1.json\n",
      "2023-12-06 22:02:14          0 boston-housing/output/sagemaker-xgboost-2023-12-06-21-58-41-725/profiler-output/system/training_job_end.ts\n"
     ]
    }
   ],
   "source": [
    "%%bash -s \"$xgboost_estimator.output_path\"\n",
    "aws s3 ls --recursive $1"
   ]
  },
  {
   "cell_type": "code",
   "execution_count": 16,
   "metadata": {
    "tags": []
   },
   "outputs": [
    {
     "name": "stdout",
     "output_type": "stream",
     "text": [
      "xgboost-demo-06-22-07-03\n"
     ]
    }
   ],
   "source": [
    "from time import strftime, gmtime\n",
    "timestamp = strftime('%d-%H-%M-%S', gmtime())\n",
    "\n",
    "endpoint_name = 'xgboost-demo-'+timestamp\n",
    "print(endpoint_name)"
   ]
  },
  {
   "cell_type": "code",
   "execution_count": 17,
   "metadata": {
    "tags": []
   },
   "outputs": [
    {
     "name": "stderr",
     "output_type": "stream",
     "text": [
      "INFO:sagemaker:Creating model with name: sagemaker-xgboost-2023-12-06-22-07-56-685\n",
      "INFO:sagemaker:Creating endpoint-config with name xgboost-demo-06-22-07-03\n",
      "INFO:sagemaker:Creating endpoint with name xgboost-demo-06-22-07-03\n"
     ]
    },
    {
     "name": "stdout",
     "output_type": "stream",
     "text": [
      "--------!"
     ]
    }
   ],
   "source": [
    "xgboost_predictor = xgboost_estimator.deploy(endpoint_name=endpoint_name, \n",
    "                        initial_instance_count=1, \n",
    "                        instance_type='ml.t2.medium')"
   ]
  },
  {
   "cell_type": "code",
   "execution_count": 18,
   "metadata": {
    "tags": []
   },
   "outputs": [],
   "source": [
    "test_sample = '0.00632,18.00,2.310,0,0.5380,6.5750,65.20,4.0900,1,296.0,15.30,4.98'"
   ]
  },
  {
   "cell_type": "code",
   "execution_count": 19,
   "metadata": {
    "tags": []
   },
   "outputs": [
    {
     "name": "stdout",
     "output_type": "stream",
     "text": [
      "[['24.024606704711914']]\n"
     ]
    }
   ],
   "source": [
    "#ll_predictor.content_type = 'text/csv'\n",
    "xgboost_predictor.serializer = sagemaker.serializers.CSVSerializer()\n",
    "xgboost_predictor.deserializer = sagemaker.deserializers.CSVDeserializer()\n",
    "\n",
    "response = xgboost_predictor.predict(test_sample)\n",
    "print(response)"
   ]
  },
  {
   "cell_type": "code",
   "execution_count": 21,
   "metadata": {
    "tags": []
   },
   "outputs": [
    {
     "name": "stdout",
     "output_type": "stream",
     "text": [
      "[['24.024606704711914', '21.335205078125']]\n",
      "xgboost-demo-06-22-07-03\n"
     ]
    }
   ],
   "source": [
    "test_samples = ['0.00632,18.00,2.310,0,0.5380,6.5750,65.20,4.0900,1,296.0,15.30,4.98',\n",
    "                '0.02731,0.00,7.070,0,0.4690,6.4210,78.90,4.9671,2,242.0,17.80,9.14']\n",
    "\n",
    "response = xgboost_predictor.predict(test_samples)\n",
    "print(response)\n",
    "print(xgboost_predictor.endpoint_name)"
   ]
  },
  {
   "cell_type": "code",
   "execution_count": 22,
   "metadata": {
    "tags": []
   },
   "outputs": [
    {
     "name": "stderr",
     "output_type": "stream",
     "text": [
      "INFO:botocore.credentials:Found credentials from IAM Role: BaseNotebookInstanceEc2InstanceRole\n"
     ]
    },
    {
     "name": "stdout",
     "output_type": "stream",
     "text": [
      "b'24.024606704711914'\n"
     ]
    }
   ],
   "source": [
    "runtime = boto3.Session().client(service_name='runtime.sagemaker') \n",
    "\n",
    "response = runtime.invoke_endpoint(EndpointName=endpoint_name, \n",
    "                                  ContentType='text/csv', \n",
    "                                  Body=test_sample)\n",
    "\n",
    "print(response['Body'].read())"
   ]
  },
  {
   "cell_type": "code",
   "execution_count": null,
   "metadata": {},
   "outputs": [],
   "source": [
    "xgboost_predictor.delete_endpoint()"
   ]
  },
  {
   "cell_type": "code",
   "execution_count": null,
   "metadata": {},
   "outputs": [],
   "source": []
  },
  {
   "cell_type": "code",
   "execution_count": null,
   "metadata": {},
   "outputs": [],
   "source": []
  }
 ],
 "metadata": {
  "kernelspec": {
   "display_name": "conda_python3",
   "language": "python",
   "name": "conda_python3"
  },
  "language_info": {
   "codemirror_mode": {
    "name": "ipython",
    "version": 3
   },
   "file_extension": ".py",
   "mimetype": "text/x-python",
   "name": "python",
   "nbconvert_exporter": "python",
   "pygments_lexer": "ipython3",
   "version": "3.10.13"
  }
 },
 "nbformat": 4,
 "nbformat_minor": 4
}
