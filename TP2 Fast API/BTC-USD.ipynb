{
 "cells": [
  {
   "cell_type": "markdown",
   "metadata": {},
   "source": [
    "# Import Libraries"
   ]
  },
  {
   "cell_type": "code",
   "execution_count": null,
   "metadata": {
    "_cell_guid": "b1076dfc-b9ad-4769-8c92-a6c4dae69d19",
    "_uuid": "8f2839f25d086af736a60e9eeb907d3b93b6e0e5",
    "execution": {
     "iopub.execute_input": "2023-10-02T23:37:36.511637Z",
     "iopub.status.busy": "2023-10-02T23:37:36.511123Z",
     "iopub.status.idle": "2023-10-02T23:37:37.297339Z",
     "shell.execute_reply": "2023-10-02T23:37:37.295673Z",
     "shell.execute_reply.started": "2023-10-02T23:37:36.511592Z"
    }
   },
   "outputs": [],
   "source": [
    "import numpy as np\n",
    "import pandas as pd\n",
    "import matplotlib.pyplot as plt\n",
    "from sklearn.model_selection import train_test_split\n",
    "from sklearn.linear_model import LinearRegression\n",
    "from sklearn.metrics import mean_squared_error, mean_absolute_error, mean_absolute_percentage_error,r2_score\n",
    "\n",
    "import os\n",
    "for dirname, _, filenames in os.walk('/kaggle/input'):\n",
    "    for filename in filenames:\n",
    "        print(os.path.join(dirname, filename))\n",
    "\n",
    "import warnings\n",
    "warnings.filterwarnings('ignore')"
   ]
  },
  {
   "cell_type": "markdown",
   "metadata": {},
   "source": [
    "# Data Loading"
   ]
  },
  {
   "cell_type": "code",
   "execution_count": 2,
   "metadata": {
    "execution": {
     "iopub.execute_input": "2023-10-02T23:37:37.300077Z",
     "iopub.status.busy": "2023-10-02T23:37:37.299642Z",
     "iopub.status.idle": "2023-10-02T23:37:37.326561Z",
     "shell.execute_reply": "2023-10-02T23:37:37.325283Z",
     "shell.execute_reply.started": "2023-10-02T23:37:37.300034Z"
    }
   },
   "outputs": [],
   "source": [
    "df = pd.read_csv(\"BTC-USD.csv\")"
   ]
  },
  {
   "cell_type": "code",
   "execution_count": 3,
   "metadata": {
    "execution": {
     "iopub.execute_input": "2023-10-02T23:37:37.425282Z",
     "iopub.status.busy": "2023-10-02T23:37:37.424094Z",
     "iopub.status.idle": "2023-10-02T23:37:37.469434Z",
     "shell.execute_reply": "2023-10-02T23:37:37.467784Z",
     "shell.execute_reply.started": "2023-10-02T23:37:37.425215Z"
    }
   },
   "outputs": [
    {
     "data": {
      "text/html": [
       "<div>\n",
       "<style scoped>\n",
       "    .dataframe tbody tr th:only-of-type {\n",
       "        vertical-align: middle;\n",
       "    }\n",
       "\n",
       "    .dataframe tbody tr th {\n",
       "        vertical-align: top;\n",
       "    }\n",
       "\n",
       "    .dataframe thead th {\n",
       "        text-align: right;\n",
       "    }\n",
       "</style>\n",
       "<table border=\"1\" class=\"dataframe\">\n",
       "  <thead>\n",
       "    <tr style=\"text-align: right;\">\n",
       "      <th></th>\n",
       "      <th>Date</th>\n",
       "      <th>Open</th>\n",
       "      <th>High</th>\n",
       "      <th>Low</th>\n",
       "      <th>Close</th>\n",
       "      <th>Adj Close</th>\n",
       "      <th>Volume</th>\n",
       "    </tr>\n",
       "  </thead>\n",
       "  <tbody>\n",
       "    <tr>\n",
       "      <th>0</th>\n",
       "      <td>2014-09-17</td>\n",
       "      <td>465.864014</td>\n",
       "      <td>468.174011</td>\n",
       "      <td>452.421997</td>\n",
       "      <td>457.334015</td>\n",
       "      <td>457.334015</td>\n",
       "      <td>21056800</td>\n",
       "    </tr>\n",
       "    <tr>\n",
       "      <th>1</th>\n",
       "      <td>2014-09-18</td>\n",
       "      <td>456.859985</td>\n",
       "      <td>456.859985</td>\n",
       "      <td>413.104004</td>\n",
       "      <td>424.440002</td>\n",
       "      <td>424.440002</td>\n",
       "      <td>34483200</td>\n",
       "    </tr>\n",
       "    <tr>\n",
       "      <th>2</th>\n",
       "      <td>2014-09-19</td>\n",
       "      <td>424.102997</td>\n",
       "      <td>427.834991</td>\n",
       "      <td>384.532013</td>\n",
       "      <td>394.795990</td>\n",
       "      <td>394.795990</td>\n",
       "      <td>37919700</td>\n",
       "    </tr>\n",
       "    <tr>\n",
       "      <th>3</th>\n",
       "      <td>2014-09-20</td>\n",
       "      <td>394.673004</td>\n",
       "      <td>423.295990</td>\n",
       "      <td>389.882996</td>\n",
       "      <td>408.903992</td>\n",
       "      <td>408.903992</td>\n",
       "      <td>36863600</td>\n",
       "    </tr>\n",
       "    <tr>\n",
       "      <th>4</th>\n",
       "      <td>2014-09-21</td>\n",
       "      <td>408.084991</td>\n",
       "      <td>412.425995</td>\n",
       "      <td>393.181000</td>\n",
       "      <td>398.821014</td>\n",
       "      <td>398.821014</td>\n",
       "      <td>26580100</td>\n",
       "    </tr>\n",
       "    <tr>\n",
       "      <th>5</th>\n",
       "      <td>2014-09-22</td>\n",
       "      <td>399.100006</td>\n",
       "      <td>406.915985</td>\n",
       "      <td>397.130005</td>\n",
       "      <td>402.152008</td>\n",
       "      <td>402.152008</td>\n",
       "      <td>24127600</td>\n",
       "    </tr>\n",
       "    <tr>\n",
       "      <th>6</th>\n",
       "      <td>2014-09-23</td>\n",
       "      <td>402.092010</td>\n",
       "      <td>441.557007</td>\n",
       "      <td>396.196991</td>\n",
       "      <td>435.790985</td>\n",
       "      <td>435.790985</td>\n",
       "      <td>45099500</td>\n",
       "    </tr>\n",
       "    <tr>\n",
       "      <th>7</th>\n",
       "      <td>2014-09-24</td>\n",
       "      <td>435.751007</td>\n",
       "      <td>436.112000</td>\n",
       "      <td>421.131989</td>\n",
       "      <td>423.204987</td>\n",
       "      <td>423.204987</td>\n",
       "      <td>30627700</td>\n",
       "    </tr>\n",
       "    <tr>\n",
       "      <th>8</th>\n",
       "      <td>2014-09-25</td>\n",
       "      <td>423.156006</td>\n",
       "      <td>423.519989</td>\n",
       "      <td>409.467987</td>\n",
       "      <td>411.574005</td>\n",
       "      <td>411.574005</td>\n",
       "      <td>26814400</td>\n",
       "    </tr>\n",
       "    <tr>\n",
       "      <th>9</th>\n",
       "      <td>2014-09-26</td>\n",
       "      <td>411.428986</td>\n",
       "      <td>414.937988</td>\n",
       "      <td>400.009003</td>\n",
       "      <td>404.424988</td>\n",
       "      <td>404.424988</td>\n",
       "      <td>21460800</td>\n",
       "    </tr>\n",
       "  </tbody>\n",
       "</table>\n",
       "</div>"
      ],
      "text/plain": [
       "         Date        Open        High         Low       Close   Adj Close  \\\n",
       "0  2014-09-17  465.864014  468.174011  452.421997  457.334015  457.334015   \n",
       "1  2014-09-18  456.859985  456.859985  413.104004  424.440002  424.440002   \n",
       "2  2014-09-19  424.102997  427.834991  384.532013  394.795990  394.795990   \n",
       "3  2014-09-20  394.673004  423.295990  389.882996  408.903992  408.903992   \n",
       "4  2014-09-21  408.084991  412.425995  393.181000  398.821014  398.821014   \n",
       "5  2014-09-22  399.100006  406.915985  397.130005  402.152008  402.152008   \n",
       "6  2014-09-23  402.092010  441.557007  396.196991  435.790985  435.790985   \n",
       "7  2014-09-24  435.751007  436.112000  421.131989  423.204987  423.204987   \n",
       "8  2014-09-25  423.156006  423.519989  409.467987  411.574005  411.574005   \n",
       "9  2014-09-26  411.428986  414.937988  400.009003  404.424988  404.424988   \n",
       "\n",
       "     Volume  \n",
       "0  21056800  \n",
       "1  34483200  \n",
       "2  37919700  \n",
       "3  36863600  \n",
       "4  26580100  \n",
       "5  24127600  \n",
       "6  45099500  \n",
       "7  30627700  \n",
       "8  26814400  \n",
       "9  21460800  "
      ]
     },
     "execution_count": 3,
     "metadata": {},
     "output_type": "execute_result"
    }
   ],
   "source": [
    "df.head(10)"
   ]
  },
  {
   "cell_type": "code",
   "execution_count": 4,
   "metadata": {
    "execution": {
     "iopub.execute_input": "2023-10-02T23:37:37.707125Z",
     "iopub.status.busy": "2023-10-02T23:37:37.705815Z",
     "iopub.status.idle": "2023-10-02T23:37:37.712817Z",
     "shell.execute_reply": "2023-10-02T23:37:37.711594Z",
     "shell.execute_reply.started": "2023-10-02T23:37:37.707069Z"
    }
   },
   "outputs": [],
   "source": [
    "viz = df.copy()"
   ]
  },
  {
   "cell_type": "markdown",
   "metadata": {},
   "source": [
    "# Data Preparation"
   ]
  },
  {
   "cell_type": "code",
   "execution_count": 5,
   "metadata": {
    "execution": {
     "iopub.execute_input": "2023-10-02T23:37:38.506601Z",
     "iopub.status.busy": "2023-10-02T23:37:38.506123Z",
     "iopub.status.idle": "2023-10-02T23:37:38.520903Z",
     "shell.execute_reply": "2023-10-02T23:37:38.519274Z",
     "shell.execute_reply.started": "2023-10-02T23:37:38.506564Z"
    }
   },
   "outputs": [
    {
     "data": {
      "text/plain": [
       "Date         0\n",
       "Open         0\n",
       "High         0\n",
       "Low          0\n",
       "Close        0\n",
       "Adj Close    0\n",
       "Volume       0\n",
       "dtype: int64"
      ]
     },
     "execution_count": 5,
     "metadata": {},
     "output_type": "execute_result"
    }
   ],
   "source": [
    "df.isnull().sum()"
   ]
  },
  {
   "cell_type": "code",
   "execution_count": 6,
   "metadata": {
    "execution": {
     "iopub.execute_input": "2023-10-02T23:37:38.755540Z",
     "iopub.status.busy": "2023-10-02T23:37:38.753988Z",
     "iopub.status.idle": "2023-10-02T23:37:38.766001Z",
     "shell.execute_reply": "2023-10-02T23:37:38.764336Z",
     "shell.execute_reply.started": "2023-10-02T23:37:38.755466Z"
    }
   },
   "outputs": [
    {
     "data": {
      "text/plain": [
       "(2713, 7)"
      ]
     },
     "execution_count": 6,
     "metadata": {},
     "output_type": "execute_result"
    }
   ],
   "source": [
    "df.shape"
   ]
  },
  {
   "cell_type": "code",
   "execution_count": 7,
   "metadata": {
    "execution": {
     "iopub.execute_input": "2023-10-02T23:37:39.033600Z",
     "iopub.status.busy": "2023-10-02T23:37:39.032258Z",
     "iopub.status.idle": "2023-10-02T23:37:39.065174Z",
     "shell.execute_reply": "2023-10-02T23:37:39.063628Z",
     "shell.execute_reply.started": "2023-10-02T23:37:39.033543Z"
    }
   },
   "outputs": [
    {
     "name": "stdout",
     "output_type": "stream",
     "text": [
      "<class 'pandas.core.frame.DataFrame'>\n",
      "RangeIndex: 2713 entries, 0 to 2712\n",
      "Data columns (total 7 columns):\n",
      " #   Column     Non-Null Count  Dtype  \n",
      "---  ------     --------------  -----  \n",
      " 0   Date       2713 non-null   object \n",
      " 1   Open       2713 non-null   float64\n",
      " 2   High       2713 non-null   float64\n",
      " 3   Low        2713 non-null   float64\n",
      " 4   Close      2713 non-null   float64\n",
      " 5   Adj Close  2713 non-null   float64\n",
      " 6   Volume     2713 non-null   int64  \n",
      "dtypes: float64(5), int64(1), object(1)\n",
      "memory usage: 148.5+ KB\n"
     ]
    }
   ],
   "source": [
    "df.info()"
   ]
  },
  {
   "cell_type": "code",
   "execution_count": 8,
   "metadata": {
    "execution": {
     "iopub.execute_input": "2023-10-02T23:37:39.354604Z",
     "iopub.status.busy": "2023-10-02T23:37:39.354115Z",
     "iopub.status.idle": "2023-10-02T23:37:39.396125Z",
     "shell.execute_reply": "2023-10-02T23:37:39.394659Z",
     "shell.execute_reply.started": "2023-10-02T23:37:39.354562Z"
    }
   },
   "outputs": [
    {
     "data": {
      "text/html": [
       "<div>\n",
       "<style scoped>\n",
       "    .dataframe tbody tr th:only-of-type {\n",
       "        vertical-align: middle;\n",
       "    }\n",
       "\n",
       "    .dataframe tbody tr th {\n",
       "        vertical-align: top;\n",
       "    }\n",
       "\n",
       "    .dataframe thead th {\n",
       "        text-align: right;\n",
       "    }\n",
       "</style>\n",
       "<table border=\"1\" class=\"dataframe\">\n",
       "  <thead>\n",
       "    <tr style=\"text-align: right;\">\n",
       "      <th></th>\n",
       "      <th>count</th>\n",
       "      <th>mean</th>\n",
       "      <th>std</th>\n",
       "      <th>min</th>\n",
       "      <th>25%</th>\n",
       "      <th>50%</th>\n",
       "      <th>75%</th>\n",
       "      <th>max</th>\n",
       "    </tr>\n",
       "  </thead>\n",
       "  <tbody>\n",
       "    <tr>\n",
       "      <th>Open</th>\n",
       "      <td>2713.0</td>\n",
       "      <td>1.131104e+04</td>\n",
       "      <td>1.610643e+04</td>\n",
       "      <td>1.768970e+02</td>\n",
       "      <td>6.063970e+02</td>\n",
       "      <td>6.301570e+03</td>\n",
       "      <td>1.045240e+04</td>\n",
       "      <td>6.754973e+04</td>\n",
       "    </tr>\n",
       "    <tr>\n",
       "      <th>High</th>\n",
       "      <td>2713.0</td>\n",
       "      <td>1.161429e+04</td>\n",
       "      <td>1.653739e+04</td>\n",
       "      <td>2.117310e+02</td>\n",
       "      <td>6.092610e+02</td>\n",
       "      <td>6.434618e+03</td>\n",
       "      <td>1.076264e+04</td>\n",
       "      <td>6.878962e+04</td>\n",
       "    </tr>\n",
       "    <tr>\n",
       "      <th>Low</th>\n",
       "      <td>2713.0</td>\n",
       "      <td>1.097556e+04</td>\n",
       "      <td>1.560857e+04</td>\n",
       "      <td>1.715100e+02</td>\n",
       "      <td>6.041100e+02</td>\n",
       "      <td>6.214220e+03</td>\n",
       "      <td>1.020239e+04</td>\n",
       "      <td>6.638206e+04</td>\n",
       "    </tr>\n",
       "    <tr>\n",
       "      <th>Close</th>\n",
       "      <td>2713.0</td>\n",
       "      <td>1.132391e+04</td>\n",
       "      <td>1.611037e+04</td>\n",
       "      <td>1.781030e+02</td>\n",
       "      <td>6.067190e+02</td>\n",
       "      <td>6.317610e+03</td>\n",
       "      <td>1.046226e+04</td>\n",
       "      <td>6.756683e+04</td>\n",
       "    </tr>\n",
       "    <tr>\n",
       "      <th>Adj Close</th>\n",
       "      <td>2713.0</td>\n",
       "      <td>1.132391e+04</td>\n",
       "      <td>1.611037e+04</td>\n",
       "      <td>1.781030e+02</td>\n",
       "      <td>6.067190e+02</td>\n",
       "      <td>6.317610e+03</td>\n",
       "      <td>1.046226e+04</td>\n",
       "      <td>6.756683e+04</td>\n",
       "    </tr>\n",
       "    <tr>\n",
       "      <th>Volume</th>\n",
       "      <td>2713.0</td>\n",
       "      <td>1.470462e+10</td>\n",
       "      <td>2.001627e+10</td>\n",
       "      <td>5.914570e+06</td>\n",
       "      <td>7.991080e+07</td>\n",
       "      <td>5.098183e+09</td>\n",
       "      <td>2.456992e+10</td>\n",
       "      <td>3.509679e+11</td>\n",
       "    </tr>\n",
       "  </tbody>\n",
       "</table>\n",
       "</div>"
      ],
      "text/plain": [
       "            count          mean           std           min           25%  \\\n",
       "Open       2713.0  1.131104e+04  1.610643e+04  1.768970e+02  6.063970e+02   \n",
       "High       2713.0  1.161429e+04  1.653739e+04  2.117310e+02  6.092610e+02   \n",
       "Low        2713.0  1.097556e+04  1.560857e+04  1.715100e+02  6.041100e+02   \n",
       "Close      2713.0  1.132391e+04  1.611037e+04  1.781030e+02  6.067190e+02   \n",
       "Adj Close  2713.0  1.132391e+04  1.611037e+04  1.781030e+02  6.067190e+02   \n",
       "Volume     2713.0  1.470462e+10  2.001627e+10  5.914570e+06  7.991080e+07   \n",
       "\n",
       "                    50%           75%           max  \n",
       "Open       6.301570e+03  1.045240e+04  6.754973e+04  \n",
       "High       6.434618e+03  1.076264e+04  6.878962e+04  \n",
       "Low        6.214220e+03  1.020239e+04  6.638206e+04  \n",
       "Close      6.317610e+03  1.046226e+04  6.756683e+04  \n",
       "Adj Close  6.317610e+03  1.046226e+04  6.756683e+04  \n",
       "Volume     5.098183e+09  2.456992e+10  3.509679e+11  "
      ]
     },
     "execution_count": 8,
     "metadata": {},
     "output_type": "execute_result"
    }
   ],
   "source": [
    "df.describe().T"
   ]
  },
  {
   "cell_type": "code",
   "execution_count": 9,
   "metadata": {
    "execution": {
     "iopub.execute_input": "2023-10-02T23:37:39.630990Z",
     "iopub.status.busy": "2023-10-02T23:37:39.630552Z",
     "iopub.status.idle": "2023-10-02T23:37:39.638170Z",
     "shell.execute_reply": "2023-10-02T23:37:39.636973Z",
     "shell.execute_reply.started": "2023-10-02T23:37:39.630954Z"
    }
   },
   "outputs": [],
   "source": [
    "train, test = train_test_split(df, test_size = 0.2)"
   ]
  },
  {
   "cell_type": "code",
   "execution_count": 10,
   "metadata": {
    "execution": {
     "iopub.execute_input": "2023-10-02T23:37:39.902333Z",
     "iopub.status.busy": "2023-10-02T23:37:39.901866Z",
     "iopub.status.idle": "2023-10-02T23:37:39.909324Z",
     "shell.execute_reply": "2023-10-02T23:37:39.907433Z",
     "shell.execute_reply.started": "2023-10-02T23:37:39.902286Z"
    }
   },
   "outputs": [],
   "source": [
    "test_pred = test.copy()"
   ]
  },
  {
   "cell_type": "code",
   "execution_count": 11,
   "metadata": {
    "execution": {
     "iopub.execute_input": "2023-10-02T23:37:40.184299Z",
     "iopub.status.busy": "2023-10-02T23:37:40.183872Z",
     "iopub.status.idle": "2023-10-02T23:37:40.201457Z",
     "shell.execute_reply": "2023-10-02T23:37:40.200051Z",
     "shell.execute_reply.started": "2023-10-02T23:37:40.184260Z"
    }
   },
   "outputs": [
    {
     "data": {
      "text/html": [
       "<div>\n",
       "<style scoped>\n",
       "    .dataframe tbody tr th:only-of-type {\n",
       "        vertical-align: middle;\n",
       "    }\n",
       "\n",
       "    .dataframe tbody tr th {\n",
       "        vertical-align: top;\n",
       "    }\n",
       "\n",
       "    .dataframe thead th {\n",
       "        text-align: right;\n",
       "    }\n",
       "</style>\n",
       "<table border=\"1\" class=\"dataframe\">\n",
       "  <thead>\n",
       "    <tr style=\"text-align: right;\">\n",
       "      <th></th>\n",
       "      <th>Date</th>\n",
       "      <th>Open</th>\n",
       "      <th>High</th>\n",
       "      <th>Low</th>\n",
       "      <th>Close</th>\n",
       "      <th>Adj Close</th>\n",
       "      <th>Volume</th>\n",
       "    </tr>\n",
       "  </thead>\n",
       "  <tbody>\n",
       "    <tr>\n",
       "      <th>694</th>\n",
       "      <td>2016-08-11</td>\n",
       "      <td>592.124023</td>\n",
       "      <td>597.541992</td>\n",
       "      <td>589.119995</td>\n",
       "      <td>589.119995</td>\n",
       "      <td>589.119995</td>\n",
       "      <td>74514400</td>\n",
       "    </tr>\n",
       "    <tr>\n",
       "      <th>2491</th>\n",
       "      <td>2021-07-13</td>\n",
       "      <td>33125.468750</td>\n",
       "      <td>33327.101563</td>\n",
       "      <td>32261.419922</td>\n",
       "      <td>32702.025391</td>\n",
       "      <td>32702.025391</td>\n",
       "      <td>19120856669</td>\n",
       "    </tr>\n",
       "    <tr>\n",
       "      <th>2493</th>\n",
       "      <td>2021-07-15</td>\n",
       "      <td>32827.875000</td>\n",
       "      <td>33159.640625</td>\n",
       "      <td>31175.708984</td>\n",
       "      <td>31780.730469</td>\n",
       "      <td>31780.730469</td>\n",
       "      <td>21300524237</td>\n",
       "    </tr>\n",
       "    <tr>\n",
       "      <th>1460</th>\n",
       "      <td>2018-09-16</td>\n",
       "      <td>6536.680176</td>\n",
       "      <td>6544.330078</td>\n",
       "      <td>6460.100098</td>\n",
       "      <td>6517.180176</td>\n",
       "      <td>6517.180176</td>\n",
       "      <td>3273730000</td>\n",
       "    </tr>\n",
       "    <tr>\n",
       "      <th>2607</th>\n",
       "      <td>2021-11-06</td>\n",
       "      <td>61068.875000</td>\n",
       "      <td>61590.683594</td>\n",
       "      <td>60163.781250</td>\n",
       "      <td>61527.480469</td>\n",
       "      <td>61527.480469</td>\n",
       "      <td>29094934221</td>\n",
       "    </tr>\n",
       "    <tr>\n",
       "      <th>1266</th>\n",
       "      <td>2018-03-06</td>\n",
       "      <td>11500.099609</td>\n",
       "      <td>11500.099609</td>\n",
       "      <td>10694.299805</td>\n",
       "      <td>10779.900391</td>\n",
       "      <td>10779.900391</td>\n",
       "      <td>6832169984</td>\n",
       "    </tr>\n",
       "    <tr>\n",
       "      <th>95</th>\n",
       "      <td>2014-12-21</td>\n",
       "      <td>329.542999</td>\n",
       "      <td>329.628998</td>\n",
       "      <td>318.903015</td>\n",
       "      <td>320.842987</td>\n",
       "      <td>320.842987</td>\n",
       "      <td>15207600</td>\n",
       "    </tr>\n",
       "    <tr>\n",
       "      <th>1125</th>\n",
       "      <td>2017-10-16</td>\n",
       "      <td>5687.569824</td>\n",
       "      <td>5776.229980</td>\n",
       "      <td>5544.209961</td>\n",
       "      <td>5725.589844</td>\n",
       "      <td>5725.589844</td>\n",
       "      <td>2008070016</td>\n",
       "    </tr>\n",
       "    <tr>\n",
       "      <th>1805</th>\n",
       "      <td>2019-08-27</td>\n",
       "      <td>10372.826172</td>\n",
       "      <td>10381.328125</td>\n",
       "      <td>10087.300781</td>\n",
       "      <td>10185.500000</td>\n",
       "      <td>10185.500000</td>\n",
       "      <td>14762609503</td>\n",
       "    </tr>\n",
       "    <tr>\n",
       "      <th>1926</th>\n",
       "      <td>2019-12-26</td>\n",
       "      <td>7274.799316</td>\n",
       "      <td>7388.302734</td>\n",
       "      <td>7200.386719</td>\n",
       "      <td>7238.966797</td>\n",
       "      <td>7238.966797</td>\n",
       "      <td>22787010034</td>\n",
       "    </tr>\n",
       "  </tbody>\n",
       "</table>\n",
       "</div>"
      ],
      "text/plain": [
       "            Date          Open          High           Low         Close  \\\n",
       "694   2016-08-11    592.124023    597.541992    589.119995    589.119995   \n",
       "2491  2021-07-13  33125.468750  33327.101563  32261.419922  32702.025391   \n",
       "2493  2021-07-15  32827.875000  33159.640625  31175.708984  31780.730469   \n",
       "1460  2018-09-16   6536.680176   6544.330078   6460.100098   6517.180176   \n",
       "2607  2021-11-06  61068.875000  61590.683594  60163.781250  61527.480469   \n",
       "1266  2018-03-06  11500.099609  11500.099609  10694.299805  10779.900391   \n",
       "95    2014-12-21    329.542999    329.628998    318.903015    320.842987   \n",
       "1125  2017-10-16   5687.569824   5776.229980   5544.209961   5725.589844   \n",
       "1805  2019-08-27  10372.826172  10381.328125  10087.300781  10185.500000   \n",
       "1926  2019-12-26   7274.799316   7388.302734   7200.386719   7238.966797   \n",
       "\n",
       "         Adj Close       Volume  \n",
       "694     589.119995     74514400  \n",
       "2491  32702.025391  19120856669  \n",
       "2493  31780.730469  21300524237  \n",
       "1460   6517.180176   3273730000  \n",
       "2607  61527.480469  29094934221  \n",
       "1266  10779.900391   6832169984  \n",
       "95      320.842987     15207600  \n",
       "1125   5725.589844   2008070016  \n",
       "1805  10185.500000  14762609503  \n",
       "1926   7238.966797  22787010034  "
      ]
     },
     "execution_count": 11,
     "metadata": {},
     "output_type": "execute_result"
    }
   ],
   "source": [
    "train.head(10)"
   ]
  },
  {
   "cell_type": "code",
   "execution_count": 12,
   "metadata": {
    "execution": {
     "iopub.execute_input": "2023-10-02T23:37:40.559321Z",
     "iopub.status.busy": "2023-10-02T23:37:40.558783Z",
     "iopub.status.idle": "2023-10-02T23:37:40.580083Z",
     "shell.execute_reply": "2023-10-02T23:37:40.578591Z",
     "shell.execute_reply.started": "2023-10-02T23:37:40.559268Z"
    }
   },
   "outputs": [
    {
     "data": {
      "text/html": [
       "<div>\n",
       "<style scoped>\n",
       "    .dataframe tbody tr th:only-of-type {\n",
       "        vertical-align: middle;\n",
       "    }\n",
       "\n",
       "    .dataframe tbody tr th {\n",
       "        vertical-align: top;\n",
       "    }\n",
       "\n",
       "    .dataframe thead th {\n",
       "        text-align: right;\n",
       "    }\n",
       "</style>\n",
       "<table border=\"1\" class=\"dataframe\">\n",
       "  <thead>\n",
       "    <tr style=\"text-align: right;\">\n",
       "      <th></th>\n",
       "      <th>Date</th>\n",
       "      <th>Open</th>\n",
       "      <th>High</th>\n",
       "      <th>Low</th>\n",
       "      <th>Close</th>\n",
       "      <th>Adj Close</th>\n",
       "      <th>Volume</th>\n",
       "    </tr>\n",
       "  </thead>\n",
       "  <tbody>\n",
       "    <tr>\n",
       "      <th>797</th>\n",
       "      <td>2016-11-22</td>\n",
       "      <td>739.643005</td>\n",
       "      <td>753.869995</td>\n",
       "      <td>736.526978</td>\n",
       "      <td>751.346985</td>\n",
       "      <td>751.346985</td>\n",
       "      <td>129906000</td>\n",
       "    </tr>\n",
       "    <tr>\n",
       "      <th>1365</th>\n",
       "      <td>2018-06-13</td>\n",
       "      <td>6596.879883</td>\n",
       "      <td>6631.660156</td>\n",
       "      <td>6285.629883</td>\n",
       "      <td>6349.899902</td>\n",
       "      <td>6349.899902</td>\n",
       "      <td>5052349952</td>\n",
       "    </tr>\n",
       "    <tr>\n",
       "      <th>697</th>\n",
       "      <td>2016-08-14</td>\n",
       "      <td>585.588989</td>\n",
       "      <td>585.666016</td>\n",
       "      <td>564.781006</td>\n",
       "      <td>570.473022</td>\n",
       "      <td>570.473022</td>\n",
       "      <td>60851100</td>\n",
       "    </tr>\n",
       "    <tr>\n",
       "      <th>2241</th>\n",
       "      <td>2020-11-05</td>\n",
       "      <td>14133.733398</td>\n",
       "      <td>15706.404297</td>\n",
       "      <td>14102.088867</td>\n",
       "      <td>15579.848633</td>\n",
       "      <td>15579.848633</td>\n",
       "      <td>40856321439</td>\n",
       "    </tr>\n",
       "    <tr>\n",
       "      <th>1201</th>\n",
       "      <td>2017-12-31</td>\n",
       "      <td>12897.700195</td>\n",
       "      <td>14377.400391</td>\n",
       "      <td>12755.599609</td>\n",
       "      <td>14156.400391</td>\n",
       "      <td>14156.400391</td>\n",
       "      <td>12136299520</td>\n",
       "    </tr>\n",
       "    <tr>\n",
       "      <th>2070</th>\n",
       "      <td>2020-05-18</td>\n",
       "      <td>9675.695313</td>\n",
       "      <td>9906.030273</td>\n",
       "      <td>9570.359375</td>\n",
       "      <td>9726.575195</td>\n",
       "      <td>9726.575195</td>\n",
       "      <td>41827139896</td>\n",
       "    </tr>\n",
       "    <tr>\n",
       "      <th>432</th>\n",
       "      <td>2015-11-23</td>\n",
       "      <td>324.350006</td>\n",
       "      <td>325.118011</td>\n",
       "      <td>321.290009</td>\n",
       "      <td>323.045990</td>\n",
       "      <td>323.045990</td>\n",
       "      <td>27478900</td>\n",
       "    </tr>\n",
       "    <tr>\n",
       "      <th>2150</th>\n",
       "      <td>2020-08-06</td>\n",
       "      <td>11749.871094</td>\n",
       "      <td>11902.335938</td>\n",
       "      <td>11598.713867</td>\n",
       "      <td>11779.773438</td>\n",
       "      <td>11779.773438</td>\n",
       "      <td>23400740340</td>\n",
       "    </tr>\n",
       "    <tr>\n",
       "      <th>1090</th>\n",
       "      <td>2017-09-11</td>\n",
       "      <td>4122.470215</td>\n",
       "      <td>4261.669922</td>\n",
       "      <td>4099.399902</td>\n",
       "      <td>4161.270020</td>\n",
       "      <td>4161.270020</td>\n",
       "      <td>1557330048</td>\n",
       "    </tr>\n",
       "    <tr>\n",
       "      <th>2446</th>\n",
       "      <td>2021-05-29</td>\n",
       "      <td>35684.156250</td>\n",
       "      <td>37234.500000</td>\n",
       "      <td>33693.929688</td>\n",
       "      <td>34616.066406</td>\n",
       "      <td>34616.066406</td>\n",
       "      <td>45231013335</td>\n",
       "    </tr>\n",
       "  </tbody>\n",
       "</table>\n",
       "</div>"
      ],
      "text/plain": [
       "            Date          Open          High           Low         Close  \\\n",
       "797   2016-11-22    739.643005    753.869995    736.526978    751.346985   \n",
       "1365  2018-06-13   6596.879883   6631.660156   6285.629883   6349.899902   \n",
       "697   2016-08-14    585.588989    585.666016    564.781006    570.473022   \n",
       "2241  2020-11-05  14133.733398  15706.404297  14102.088867  15579.848633   \n",
       "1201  2017-12-31  12897.700195  14377.400391  12755.599609  14156.400391   \n",
       "2070  2020-05-18   9675.695313   9906.030273   9570.359375   9726.575195   \n",
       "432   2015-11-23    324.350006    325.118011    321.290009    323.045990   \n",
       "2150  2020-08-06  11749.871094  11902.335938  11598.713867  11779.773438   \n",
       "1090  2017-09-11   4122.470215   4261.669922   4099.399902   4161.270020   \n",
       "2446  2021-05-29  35684.156250  37234.500000  33693.929688  34616.066406   \n",
       "\n",
       "         Adj Close       Volume  \n",
       "797     751.346985    129906000  \n",
       "1365   6349.899902   5052349952  \n",
       "697     570.473022     60851100  \n",
       "2241  15579.848633  40856321439  \n",
       "1201  14156.400391  12136299520  \n",
       "2070   9726.575195  41827139896  \n",
       "432     323.045990     27478900  \n",
       "2150  11779.773438  23400740340  \n",
       "1090   4161.270020   1557330048  \n",
       "2446  34616.066406  45231013335  "
      ]
     },
     "execution_count": 12,
     "metadata": {},
     "output_type": "execute_result"
    }
   ],
   "source": [
    "test.head(10)"
   ]
  },
  {
   "cell_type": "code",
   "execution_count": 13,
   "metadata": {
    "execution": {
     "iopub.execute_input": "2023-10-02T23:37:40.928623Z",
     "iopub.status.busy": "2023-10-02T23:37:40.928181Z",
     "iopub.status.idle": "2023-10-02T23:37:40.940128Z",
     "shell.execute_reply": "2023-10-02T23:37:40.938564Z",
     "shell.execute_reply.started": "2023-10-02T23:37:40.928583Z"
    }
   },
   "outputs": [],
   "source": [
    "x_train = train[['Open', 'High', 'Low', 'Volume']].values\n",
    "x_test = test[['Open', 'High', 'Low', 'Volume']].values"
   ]
  },
  {
   "cell_type": "code",
   "execution_count": 14,
   "metadata": {
    "execution": {
     "iopub.execute_input": "2023-10-02T23:37:41.403367Z",
     "iopub.status.busy": "2023-10-02T23:37:41.402908Z",
     "iopub.status.idle": "2023-10-02T23:37:41.410575Z",
     "shell.execute_reply": "2023-10-02T23:37:41.409286Z",
     "shell.execute_reply.started": "2023-10-02T23:37:41.403323Z"
    }
   },
   "outputs": [],
   "source": [
    "y_train = train['Close'].values\n",
    "y_test = test['Close'].values"
   ]
  },
  {
   "cell_type": "markdown",
   "metadata": {},
   "source": [
    "# Linear Regression"
   ]
  },
  {
   "cell_type": "code",
   "execution_count": 15,
   "metadata": {
    "execution": {
     "iopub.execute_input": "2023-10-02T23:37:42.349058Z",
     "iopub.status.busy": "2023-10-02T23:37:42.348589Z",
     "iopub.status.idle": "2023-10-02T23:37:42.374620Z",
     "shell.execute_reply": "2023-10-02T23:37:42.373263Z",
     "shell.execute_reply.started": "2023-10-02T23:37:42.349015Z"
    }
   },
   "outputs": [
    {
     "data": {
      "text/html": [
       "<style>#sk-container-id-1 {color: black;}#sk-container-id-1 pre{padding: 0;}#sk-container-id-1 div.sk-toggleable {background-color: white;}#sk-container-id-1 label.sk-toggleable__label {cursor: pointer;display: block;width: 100%;margin-bottom: 0;padding: 0.3em;box-sizing: border-box;text-align: center;}#sk-container-id-1 label.sk-toggleable__label-arrow:before {content: \"▸\";float: left;margin-right: 0.25em;color: #696969;}#sk-container-id-1 label.sk-toggleable__label-arrow:hover:before {color: black;}#sk-container-id-1 div.sk-estimator:hover label.sk-toggleable__label-arrow:before {color: black;}#sk-container-id-1 div.sk-toggleable__content {max-height: 0;max-width: 0;overflow: hidden;text-align: left;background-color: #f0f8ff;}#sk-container-id-1 div.sk-toggleable__content pre {margin: 0.2em;color: black;border-radius: 0.25em;background-color: #f0f8ff;}#sk-container-id-1 input.sk-toggleable__control:checked~div.sk-toggleable__content {max-height: 200px;max-width: 100%;overflow: auto;}#sk-container-id-1 input.sk-toggleable__control:checked~label.sk-toggleable__label-arrow:before {content: \"▾\";}#sk-container-id-1 div.sk-estimator input.sk-toggleable__control:checked~label.sk-toggleable__label {background-color: #d4ebff;}#sk-container-id-1 div.sk-label input.sk-toggleable__control:checked~label.sk-toggleable__label {background-color: #d4ebff;}#sk-container-id-1 input.sk-hidden--visually {border: 0;clip: rect(1px 1px 1px 1px);clip: rect(1px, 1px, 1px, 1px);height: 1px;margin: -1px;overflow: hidden;padding: 0;position: absolute;width: 1px;}#sk-container-id-1 div.sk-estimator {font-family: monospace;background-color: #f0f8ff;border: 1px dotted black;border-radius: 0.25em;box-sizing: border-box;margin-bottom: 0.5em;}#sk-container-id-1 div.sk-estimator:hover {background-color: #d4ebff;}#sk-container-id-1 div.sk-parallel-item::after {content: \"\";width: 100%;border-bottom: 1px solid gray;flex-grow: 1;}#sk-container-id-1 div.sk-label:hover label.sk-toggleable__label {background-color: #d4ebff;}#sk-container-id-1 div.sk-serial::before {content: \"\";position: absolute;border-left: 1px solid gray;box-sizing: border-box;top: 0;bottom: 0;left: 50%;z-index: 0;}#sk-container-id-1 div.sk-serial {display: flex;flex-direction: column;align-items: center;background-color: white;padding-right: 0.2em;padding-left: 0.2em;position: relative;}#sk-container-id-1 div.sk-item {position: relative;z-index: 1;}#sk-container-id-1 div.sk-parallel {display: flex;align-items: stretch;justify-content: center;background-color: white;position: relative;}#sk-container-id-1 div.sk-item::before, #sk-container-id-1 div.sk-parallel-item::before {content: \"\";position: absolute;border-left: 1px solid gray;box-sizing: border-box;top: 0;bottom: 0;left: 50%;z-index: -1;}#sk-container-id-1 div.sk-parallel-item {display: flex;flex-direction: column;z-index: 1;position: relative;background-color: white;}#sk-container-id-1 div.sk-parallel-item:first-child::after {align-self: flex-end;width: 50%;}#sk-container-id-1 div.sk-parallel-item:last-child::after {align-self: flex-start;width: 50%;}#sk-container-id-1 div.sk-parallel-item:only-child::after {width: 0;}#sk-container-id-1 div.sk-dashed-wrapped {border: 1px dashed gray;margin: 0 0.4em 0.5em 0.4em;box-sizing: border-box;padding-bottom: 0.4em;background-color: white;}#sk-container-id-1 div.sk-label label {font-family: monospace;font-weight: bold;display: inline-block;line-height: 1.2em;}#sk-container-id-1 div.sk-label-container {text-align: center;}#sk-container-id-1 div.sk-container {/* jupyter's `normalize.less` sets `[hidden] { display: none; }` but bootstrap.min.css set `[hidden] { display: none !important; }` so we also need the `!important` here to be able to override the default hidden behavior on the sphinx rendered scikit-learn.org. See: https://github.com/scikit-learn/scikit-learn/issues/21755 */display: inline-block !important;position: relative;}#sk-container-id-1 div.sk-text-repr-fallback {display: none;}</style><div id=\"sk-container-id-1\" class=\"sk-top-container\"><div class=\"sk-text-repr-fallback\"><pre>LinearRegression()</pre><b>In a Jupyter environment, please rerun this cell to show the HTML representation or trust the notebook. <br />On GitHub, the HTML representation is unable to render, please try loading this page with nbviewer.org.</b></div><div class=\"sk-container\" hidden><div class=\"sk-item\"><div class=\"sk-estimator sk-toggleable\"><input class=\"sk-toggleable__control sk-hidden--visually\" id=\"sk-estimator-id-1\" type=\"checkbox\" checked><label for=\"sk-estimator-id-1\" class=\"sk-toggleable__label sk-toggleable__label-arrow\">LinearRegression</label><div class=\"sk-toggleable__content\"><pre>LinearRegression()</pre></div></div></div></div></div>"
      ],
      "text/plain": [
       "LinearRegression()"
      ]
     },
     "execution_count": 15,
     "metadata": {},
     "output_type": "execute_result"
    }
   ],
   "source": [
    "model_lnr = LinearRegression()\n",
    "model_lnr.fit(x_train, y_train)"
   ]
  },
  {
   "cell_type": "code",
   "execution_count": 16,
   "metadata": {
    "execution": {
     "iopub.execute_input": "2023-10-02T23:37:42.745137Z",
     "iopub.status.busy": "2023-10-02T23:37:42.743763Z",
     "iopub.status.idle": "2023-10-02T23:37:42.751466Z",
     "shell.execute_reply": "2023-10-02T23:37:42.750030Z",
     "shell.execute_reply.started": "2023-10-02T23:37:42.745057Z"
    }
   },
   "outputs": [],
   "source": [
    "y_pred = model_lnr.predict(x_test)"
   ]
  },
  {
   "cell_type": "code",
   "execution_count": 17,
   "metadata": {
    "execution": {
     "iopub.execute_input": "2023-10-02T23:37:43.339299Z",
     "iopub.status.busy": "2023-10-02T23:37:43.338786Z",
     "iopub.status.idle": "2023-10-02T23:37:43.348193Z",
     "shell.execute_reply": "2023-10-02T23:37:43.346455Z",
     "shell.execute_reply.started": "2023-10-02T23:37:43.339256Z"
    }
   },
   "outputs": [
    {
     "name": "stdout",
     "output_type": "stream",
     "text": [
      "[258.89569018]\n"
     ]
    }
   ],
   "source": [
    "result = model_lnr.predict([[262.000000, 267.899994, 250.029999, 11896100]])\n",
    "print(result)"
   ]
  },
  {
   "cell_type": "markdown",
   "metadata": {},
   "source": [
    "# Model Evaluation"
   ]
  },
  {
   "cell_type": "code",
   "execution_count": 18,
   "metadata": {
    "execution": {
     "iopub.execute_input": "2023-10-02T23:37:46.439073Z",
     "iopub.status.busy": "2023-10-02T23:37:46.438640Z",
     "iopub.status.idle": "2023-10-02T23:37:46.449968Z",
     "shell.execute_reply": "2023-10-02T23:37:46.448375Z",
     "shell.execute_reply.started": "2023-10-02T23:37:46.439035Z"
    }
   },
   "outputs": [
    {
     "name": "stdout",
     "output_type": "stream",
     "text": [
      "MSE 116225.918\n",
      "RMSE 340.919\n",
      "MAE 145.907\n",
      "MAPE 0.01\n",
      "R2 Score :  1.0\n"
     ]
    }
   ],
   "source": [
    "print(\"MSE\",round(mean_squared_error(y_test,y_pred), 3))\n",
    "print(\"RMSE\",round(np.sqrt(mean_squared_error(y_test,y_pred)), 3))\n",
    "print(\"MAE\",round(mean_absolute_error(y_test,y_pred), 3))\n",
    "print(\"MAPE\",round(mean_absolute_percentage_error(y_test,y_pred), 3))\n",
    "print(\"R2 Score : \", round(r2_score(y_test,y_pred), 3))"
   ]
  },
  {
   "cell_type": "markdown",
   "metadata": {},
   "source": [
    "# Model saving using pickle"
   ]
  },
  {
   "cell_type": "code",
   "execution_count": 19,
   "metadata": {
    "execution": {
     "iopub.execute_input": "2023-10-02T23:37:46.698706Z",
     "iopub.status.busy": "2023-10-02T23:37:46.698237Z",
     "iopub.status.idle": "2023-10-02T23:37:46.704956Z",
     "shell.execute_reply": "2023-10-02T23:37:46.703535Z",
     "shell.execute_reply.started": "2023-10-02T23:37:46.698660Z"
    }
   },
   "outputs": [],
   "source": [
    "import pickle\n",
    "# Saving model to disk\n",
    "pickle.dump(model_lnr, open('model.pkl','wb'))"
   ]
  },
  {
   "cell_type": "markdown",
   "metadata": {},
   "source": [
    "# Model Visualization"
   ]
  },
  {
   "cell_type": "code",
   "execution_count": 20,
   "metadata": {
    "execution": {
     "iopub.execute_input": "2023-10-02T23:37:47.190444Z",
     "iopub.status.busy": "2023-10-02T23:37:47.190015Z",
     "iopub.status.idle": "2023-10-02T23:37:47.199039Z",
     "shell.execute_reply": "2023-10-02T23:37:47.197575Z",
     "shell.execute_reply.started": "2023-10-02T23:37:47.190409Z"
    }
   },
   "outputs": [],
   "source": [
    "def style():\n",
    "    plt.figure(facecolor='black', figsize=(15,10))\n",
    "    ax = plt.axes()\n",
    "\n",
    "    ax.tick_params(axis='x', colors='white')    #setting up X-axis tick color to white\n",
    "    ax.tick_params(axis='y', colors='white')    #setting up Y-axis tick color to white\n",
    "\n",
    "    ax.spines['left'].set_color('white')        #setting up Y-axis spine color to white\n",
    "    #ax.spines['right'].set_color('white')\n",
    "    #ax.spines['top'].set_color('white')\n",
    "    ax.spines['bottom'].set_color('white')      #setting up X-axis spine color to white\n",
    "\n",
    "    ax.set_facecolor(\"black\")                   # Setting the background color of the plot using set_facecolor() method"
   ]
  },
  {
   "cell_type": "code",
   "execution_count": 21,
   "metadata": {
    "execution": {
     "iopub.execute_input": "2023-10-02T23:37:47.789927Z",
     "iopub.status.busy": "2023-10-02T23:37:47.789411Z",
     "iopub.status.idle": "2023-10-02T23:37:47.802003Z",
     "shell.execute_reply": "2023-10-02T23:37:47.799811Z",
     "shell.execute_reply.started": "2023-10-02T23:37:47.789884Z"
    }
   },
   "outputs": [],
   "source": [
    "viz['Date']=pd.to_datetime(viz['Date'],format='%Y-%m-%d')"
   ]
  },
  {
   "cell_type": "code",
   "execution_count": 22,
   "metadata": {
    "execution": {
     "iopub.execute_input": "2023-10-02T23:37:48.090985Z",
     "iopub.status.busy": "2023-10-02T23:37:48.090555Z",
     "iopub.status.idle": "2023-10-02T23:37:48.135457Z",
     "shell.execute_reply": "2023-10-02T23:37:48.133641Z",
     "shell.execute_reply.started": "2023-10-02T23:37:48.090949Z"
    }
   },
   "outputs": [
    {
     "data": {
      "text/html": [
       "<div>\n",
       "<style scoped>\n",
       "    .dataframe tbody tr th:only-of-type {\n",
       "        vertical-align: middle;\n",
       "    }\n",
       "\n",
       "    .dataframe tbody tr th {\n",
       "        vertical-align: top;\n",
       "    }\n",
       "\n",
       "    .dataframe thead th {\n",
       "        text-align: right;\n",
       "    }\n",
       "</style>\n",
       "<table border=\"1\" class=\"dataframe\">\n",
       "  <thead>\n",
       "    <tr style=\"text-align: right;\">\n",
       "      <th></th>\n",
       "      <th>Close</th>\n",
       "    </tr>\n",
       "    <tr>\n",
       "      <th>Date</th>\n",
       "      <th></th>\n",
       "    </tr>\n",
       "  </thead>\n",
       "  <tbody>\n",
       "    <tr>\n",
       "      <th>2014-09-17</th>\n",
       "      <td>457.334015</td>\n",
       "    </tr>\n",
       "    <tr>\n",
       "      <th>2014-09-18</th>\n",
       "      <td>424.440002</td>\n",
       "    </tr>\n",
       "    <tr>\n",
       "      <th>2014-09-19</th>\n",
       "      <td>394.795990</td>\n",
       "    </tr>\n",
       "    <tr>\n",
       "      <th>2014-09-20</th>\n",
       "      <td>408.903992</td>\n",
       "    </tr>\n",
       "    <tr>\n",
       "      <th>2014-09-21</th>\n",
       "      <td>398.821014</td>\n",
       "    </tr>\n",
       "    <tr>\n",
       "      <th>...</th>\n",
       "      <td>...</td>\n",
       "    </tr>\n",
       "    <tr>\n",
       "      <th>2022-02-15</th>\n",
       "      <td>44575.203125</td>\n",
       "    </tr>\n",
       "    <tr>\n",
       "      <th>2022-02-16</th>\n",
       "      <td>43961.859375</td>\n",
       "    </tr>\n",
       "    <tr>\n",
       "      <th>2022-02-17</th>\n",
       "      <td>40538.011719</td>\n",
       "    </tr>\n",
       "    <tr>\n",
       "      <th>2022-02-18</th>\n",
       "      <td>40030.976563</td>\n",
       "    </tr>\n",
       "    <tr>\n",
       "      <th>2022-02-19</th>\n",
       "      <td>40126.429688</td>\n",
       "    </tr>\n",
       "  </tbody>\n",
       "</table>\n",
       "<p>2713 rows × 1 columns</p>\n",
       "</div>"
      ],
      "text/plain": [
       "                   Close\n",
       "Date                    \n",
       "2014-09-17    457.334015\n",
       "2014-09-18    424.440002\n",
       "2014-09-19    394.795990\n",
       "2014-09-20    408.903992\n",
       "2014-09-21    398.821014\n",
       "...                  ...\n",
       "2022-02-15  44575.203125\n",
       "2022-02-16  43961.859375\n",
       "2022-02-17  40538.011719\n",
       "2022-02-18  40030.976563\n",
       "2022-02-19  40126.429688\n",
       "\n",
       "[2713 rows x 1 columns]"
      ]
     },
     "execution_count": 22,
     "metadata": {},
     "output_type": "execute_result"
    }
   ],
   "source": [
    "data = pd.DataFrame(viz[['Date','Close']])\n",
    "data=data.reset_index()\n",
    "data=data.drop('index',axis=1)\n",
    "data.set_index('Date', inplace=True)\n",
    "data = data.asfreq('D')\n",
    "data"
   ]
  },
  {
   "cell_type": "code",
   "execution_count": 23,
   "metadata": {
    "execution": {
     "iopub.execute_input": "2023-10-02T23:37:48.590413Z",
     "iopub.status.busy": "2023-10-02T23:37:48.589937Z",
     "iopub.status.idle": "2023-10-02T23:37:49.043146Z",
     "shell.execute_reply": "2023-10-02T23:37:49.041882Z",
     "shell.execute_reply.started": "2023-10-02T23:37:48.590375Z"
    }
   },
   "outputs": [
    {
     "data": {
      "text/plain": [
       "<matplotlib.legend.Legend at 0x27c7a2d2700>"
      ]
     },
     "execution_count": 23,
     "metadata": {},
     "output_type": "execute_result"
    },
    {
     "data": {
      "image/png": "[encoded data removed]",
      "text/plain": [
       "<Figure size 1080x720 with 1 Axes>"
      ]
     },
     "metadata": {},
     "output_type": "display_data"
    }
   ],
   "source": [
    "style()\n",
    "\n",
    "plt.title('Closing Stock Price', color=\"white\")\n",
    "plt.plot(viz.Date, viz.Close, color=\"#94F008\")\n",
    "plt.legend([\"Close\"], loc =\"lower right\", facecolor='black', labelcolor='white')"
   ]
  },
  {
   "cell_type": "code",
   "execution_count": 24,
   "metadata": {
    "execution": {
     "iopub.execute_input": "2023-10-02T23:37:50.409080Z",
     "iopub.status.busy": "2023-10-02T23:37:50.407567Z",
     "iopub.status.idle": "2023-10-02T23:37:50.745194Z",
     "shell.execute_reply": "2023-10-02T23:37:50.743456Z",
     "shell.execute_reply.started": "2023-10-02T23:37:50.409019Z"
    }
   },
   "outputs": [
    {
     "data": {
      "text/plain": [
       "[<matplotlib.lines.Line2D at 0x27c7a76f9a0>]"
      ]
     },
     "execution_count": 24,
     "metadata": {},
     "output_type": "execute_result"
    },
    {
     "data": {
      "image/png": "[encoded data removed]",
      "text/plain": [
       "<Figure size 1080x720 with 1 Axes>"
      ]
     },
     "metadata": {},
     "output_type": "display_data"
    }
   ],
   "source": [
    "style()\n",
    "\n",
    "plt.scatter(y_pred, y_test, color='red', marker='o')\n",
    "plt.scatter(y_test, y_test, color='blue')\n",
    "plt.plot(y_test, y_test, color='lime')"
   ]
  },
  {
   "cell_type": "code",
   "execution_count": 25,
   "metadata": {
    "execution": {
     "iopub.execute_input": "2023-10-02T23:37:50.748721Z",
     "iopub.status.busy": "2023-10-02T23:37:50.747791Z",
     "iopub.status.idle": "2023-10-02T23:37:50.771617Z",
     "shell.execute_reply": "2023-10-02T23:37:50.770031Z",
     "shell.execute_reply.started": "2023-10-02T23:37:50.748655Z"
    }
   },
   "outputs": [
    {
     "data": {
      "text/html": [
       "<div>\n",
       "<style scoped>\n",
       "    .dataframe tbody tr th:only-of-type {\n",
       "        vertical-align: middle;\n",
       "    }\n",
       "\n",
       "    .dataframe tbody tr th {\n",
       "        vertical-align: top;\n",
       "    }\n",
       "\n",
       "    .dataframe thead th {\n",
       "        text-align: right;\n",
       "    }\n",
       "</style>\n",
       "<table border=\"1\" class=\"dataframe\">\n",
       "  <thead>\n",
       "    <tr style=\"text-align: right;\">\n",
       "      <th></th>\n",
       "      <th>Date</th>\n",
       "      <th>Open</th>\n",
       "      <th>High</th>\n",
       "      <th>Low</th>\n",
       "      <th>Close</th>\n",
       "      <th>Adj Close</th>\n",
       "      <th>Volume</th>\n",
       "      <th>Close_Prediction</th>\n",
       "    </tr>\n",
       "  </thead>\n",
       "  <tbody>\n",
       "    <tr>\n",
       "      <th>797</th>\n",
       "      <td>2016-11-22</td>\n",
       "      <td>739.643005</td>\n",
       "      <td>753.869995</td>\n",
       "      <td>736.526978</td>\n",
       "      <td>751.346985</td>\n",
       "      <td>751.346985</td>\n",
       "      <td>129906000</td>\n",
       "      <td>747.365782</td>\n",
       "    </tr>\n",
       "    <tr>\n",
       "      <th>1365</th>\n",
       "      <td>2018-06-13</td>\n",
       "      <td>6596.879883</td>\n",
       "      <td>6631.660156</td>\n",
       "      <td>6285.629883</td>\n",
       "      <td>6349.899902</td>\n",
       "      <td>6349.899902</td>\n",
       "      <td>5052349952</td>\n",
       "      <td>6402.518256</td>\n",
       "    </tr>\n",
       "    <tr>\n",
       "      <th>697</th>\n",
       "      <td>2016-08-14</td>\n",
       "      <td>585.588989</td>\n",
       "      <td>585.666016</td>\n",
       "      <td>564.781006</td>\n",
       "      <td>570.473022</td>\n",
       "      <td>570.473022</td>\n",
       "      <td>60851100</td>\n",
       "      <td>570.136077</td>\n",
       "    </tr>\n",
       "    <tr>\n",
       "      <th>2241</th>\n",
       "      <td>2020-11-05</td>\n",
       "      <td>14133.733398</td>\n",
       "      <td>15706.404297</td>\n",
       "      <td>14102.088867</td>\n",
       "      <td>15579.848633</td>\n",
       "      <td>15579.848633</td>\n",
       "      <td>40856321439</td>\n",
       "      <td>15481.435240</td>\n",
       "    </tr>\n",
       "    <tr>\n",
       "      <th>1201</th>\n",
       "      <td>2017-12-31</td>\n",
       "      <td>12897.700195</td>\n",
       "      <td>14377.400391</td>\n",
       "      <td>12755.599609</td>\n",
       "      <td>14156.400391</td>\n",
       "      <td>14156.400391</td>\n",
       "      <td>12136299520</td>\n",
       "      <td>14074.622504</td>\n",
       "    </tr>\n",
       "    <tr>\n",
       "      <th>...</th>\n",
       "      <td>...</td>\n",
       "      <td>...</td>\n",
       "      <td>...</td>\n",
       "      <td>...</td>\n",
       "      <td>...</td>\n",
       "      <td>...</td>\n",
       "      <td>...</td>\n",
       "      <td>...</td>\n",
       "    </tr>\n",
       "    <tr>\n",
       "      <th>1147</th>\n",
       "      <td>2017-11-07</td>\n",
       "      <td>7023.100098</td>\n",
       "      <td>7253.319824</td>\n",
       "      <td>7023.100098</td>\n",
       "      <td>7144.379883</td>\n",
       "      <td>7144.379883</td>\n",
       "      <td>2326340096</td>\n",
       "      <td>7196.632392</td>\n",
       "    </tr>\n",
       "    <tr>\n",
       "      <th>2098</th>\n",
       "      <td>2020-06-15</td>\n",
       "      <td>9386.035156</td>\n",
       "      <td>9504.860352</td>\n",
       "      <td>8990.175781</td>\n",
       "      <td>9450.702148</td>\n",
       "      <td>9450.702148</td>\n",
       "      <td>26699704768</td>\n",
       "      <td>9217.063788</td>\n",
       "    </tr>\n",
       "    <tr>\n",
       "      <th>2409</th>\n",
       "      <td>2021-04-22</td>\n",
       "      <td>53857.105469</td>\n",
       "      <td>55410.230469</td>\n",
       "      <td>50583.812500</td>\n",
       "      <td>51762.273438</td>\n",
       "      <td>51762.273438</td>\n",
       "      <td>74798630778</td>\n",
       "      <td>52960.515641</td>\n",
       "    </tr>\n",
       "    <tr>\n",
       "      <th>1295</th>\n",
       "      <td>2018-04-04</td>\n",
       "      <td>7456.410156</td>\n",
       "      <td>7469.879883</td>\n",
       "      <td>6803.879883</td>\n",
       "      <td>6853.839844</td>\n",
       "      <td>6853.839844</td>\n",
       "      <td>4936000000</td>\n",
       "      <td>7021.743703</td>\n",
       "    </tr>\n",
       "    <tr>\n",
       "      <th>1327</th>\n",
       "      <td>2018-05-06</td>\n",
       "      <td>9845.309570</td>\n",
       "      <td>9940.139648</td>\n",
       "      <td>9465.250000</td>\n",
       "      <td>9654.799805</td>\n",
       "      <td>9654.799805</td>\n",
       "      <td>7222280192</td>\n",
       "      <td>9646.710578</td>\n",
       "    </tr>\n",
       "  </tbody>\n",
       "</table>\n",
       "<p>543 rows × 8 columns</p>\n",
       "</div>"
      ],
      "text/plain": [
       "            Date          Open          High           Low         Close  \\\n",
       "797   2016-11-22    739.643005    753.869995    736.526978    751.346985   \n",
       "1365  2018-06-13   6596.879883   6631.660156   6285.629883   6349.899902   \n",
       "697   2016-08-14    585.588989    585.666016    564.781006    570.473022   \n",
       "2241  2020-11-05  14133.733398  15706.404297  14102.088867  15579.848633   \n",
       "1201  2017-12-31  12897.700195  14377.400391  12755.599609  14156.400391   \n",
       "...          ...           ...           ...           ...           ...   \n",
       "1147  2017-11-07   7023.100098   7253.319824   7023.100098   7144.379883   \n",
       "2098  2020-06-15   9386.035156   9504.860352   8990.175781   9450.702148   \n",
       "2409  2021-04-22  53857.105469  55410.230469  50583.812500  51762.273438   \n",
       "1295  2018-04-04   7456.410156   7469.879883   6803.879883   6853.839844   \n",
       "1327  2018-05-06   9845.309570   9940.139648   9465.250000   9654.799805   \n",
       "\n",
       "         Adj Close       Volume  Close_Prediction  \n",
       "797     751.346985    129906000        747.365782  \n",
       "1365   6349.899902   5052349952       6402.518256  \n",
       "697     570.473022     60851100        570.136077  \n",
       "2241  15579.848633  40856321439      15481.435240  \n",
       "1201  14156.400391  12136299520      14074.622504  \n",
       "...            ...          ...               ...  \n",
       "1147   7144.379883   2326340096       7196.632392  \n",
       "2098   9450.702148  26699704768       9217.063788  \n",
       "2409  51762.273438  74798630778      52960.515641  \n",
       "1295   6853.839844   4936000000       7021.743703  \n",
       "1327   9654.799805   7222280192       9646.710578  \n",
       "\n",
       "[543 rows x 8 columns]"
      ]
     },
     "execution_count": 25,
     "metadata": {},
     "output_type": "execute_result"
    }
   ],
   "source": [
    "test_pred['Close_Prediction'] = y_pred\n",
    "test_pred"
   ]
  },
  {
   "cell_type": "code",
   "execution_count": 26,
   "metadata": {
    "execution": {
     "iopub.execute_input": "2023-10-02T23:37:51.628073Z",
     "iopub.status.busy": "2023-10-02T23:37:51.627565Z",
     "iopub.status.idle": "2023-10-02T23:37:51.659457Z",
     "shell.execute_reply": "2023-10-02T23:37:51.657847Z",
     "shell.execute_reply.started": "2023-10-02T23:37:51.628027Z"
    }
   },
   "outputs": [
    {
     "data": {
      "text/html": [
       "<div>\n",
       "<style scoped>\n",
       "    .dataframe tbody tr th:only-of-type {\n",
       "        vertical-align: middle;\n",
       "    }\n",
       "\n",
       "    .dataframe tbody tr th {\n",
       "        vertical-align: top;\n",
       "    }\n",
       "\n",
       "    .dataframe thead th {\n",
       "        text-align: right;\n",
       "    }\n",
       "</style>\n",
       "<table border=\"1\" class=\"dataframe\">\n",
       "  <thead>\n",
       "    <tr style=\"text-align: right;\">\n",
       "      <th></th>\n",
       "      <th>count</th>\n",
       "      <th>mean</th>\n",
       "      <th>std</th>\n",
       "      <th>min</th>\n",
       "      <th>25%</th>\n",
       "      <th>50%</th>\n",
       "      <th>75%</th>\n",
       "      <th>max</th>\n",
       "    </tr>\n",
       "  </thead>\n",
       "  <tbody>\n",
       "    <tr>\n",
       "      <th>Close</th>\n",
       "      <td>543.0</td>\n",
       "      <td>11724.769194</td>\n",
       "      <td>16721.565869</td>\n",
       "      <td>219.184998</td>\n",
       "      <td>598.415527</td>\n",
       "      <td>6349.899902</td>\n",
       "      <td>10767.667968</td>\n",
       "      <td>64995.230469</td>\n",
       "    </tr>\n",
       "    <tr>\n",
       "      <th>Close_Prediction</th>\n",
       "      <td>543.0</td>\n",
       "      <td>11733.583034</td>\n",
       "      <td>16719.554793</td>\n",
       "      <td>221.410134</td>\n",
       "      <td>599.341746</td>\n",
       "      <td>6358.563592</td>\n",
       "      <td>10770.145563</td>\n",
       "      <td>65923.924986</td>\n",
       "    </tr>\n",
       "  </tbody>\n",
       "</table>\n",
       "</div>"
      ],
      "text/plain": [
       "                  count          mean           std         min         25%  \\\n",
       "Close             543.0  11724.769194  16721.565869  219.184998  598.415527   \n",
       "Close_Prediction  543.0  11733.583034  16719.554793  221.410134  599.341746   \n",
       "\n",
       "                          50%           75%           max  \n",
       "Close             6349.899902  10767.667968  64995.230469  \n",
       "Close_Prediction  6358.563592  10770.145563  65923.924986  "
      ]
     },
     "execution_count": 26,
     "metadata": {},
     "output_type": "execute_result"
    }
   ],
   "source": [
    "test_pred[['Close', 'Close_Prediction']].describe().T"
   ]
  },
  {
   "cell_type": "markdown",
   "metadata": {},
   "source": [
    "**Actual Close Price vs. Predicted Close Price**\n",
    "<div class=\"flourish-embed flourish-chart\" data-src=\"visualisation/13412598\"><script src=\"https://public.flourish.studio/resources/embed.js\"></script></div>"
   ]
  },
  {
   "cell_type": "markdown",
   "metadata": {},
   "source": [
    "# Saving the Data as CSV"
   ]
  },
  {
   "cell_type": "code",
   "execution_count": 27,
   "metadata": {
    "execution": {
     "iopub.execute_input": "2023-10-02T23:37:58.326459Z",
     "iopub.status.busy": "2023-10-02T23:37:58.325929Z",
     "iopub.status.idle": "2023-10-02T23:37:58.334948Z",
     "shell.execute_reply": "2023-10-02T23:37:58.333032Z",
     "shell.execute_reply.started": "2023-10-02T23:37:58.326370Z"
    }
   },
   "outputs": [],
   "source": [
    "test_pred['Date'] = pd.to_datetime(test_pred['Date'],format='%Y-%m-%d')"
   ]
  },
  {
   "cell_type": "code",
   "execution_count": 28,
   "metadata": {
    "execution": {
     "iopub.execute_input": "2023-10-02T23:37:58.912108Z",
     "iopub.status.busy": "2023-10-02T23:37:58.911660Z",
     "iopub.status.idle": "2023-10-02T23:37:58.933674Z",
     "shell.execute_reply": "2023-10-02T23:37:58.932318Z",
     "shell.execute_reply.started": "2023-10-02T23:37:58.912066Z"
    }
   },
   "outputs": [
    {
     "data": {
      "text/html": [
       "<div>\n",
       "<style scoped>\n",
       "    .dataframe tbody tr th:only-of-type {\n",
       "        vertical-align: middle;\n",
       "    }\n",
       "\n",
       "    .dataframe tbody tr th {\n",
       "        vertical-align: top;\n",
       "    }\n",
       "\n",
       "    .dataframe thead th {\n",
       "        text-align: right;\n",
       "    }\n",
       "</style>\n",
       "<table border=\"1\" class=\"dataframe\">\n",
       "  <thead>\n",
       "    <tr style=\"text-align: right;\">\n",
       "      <th></th>\n",
       "      <th>Close</th>\n",
       "      <th>Close_Prediction</th>\n",
       "    </tr>\n",
       "    <tr>\n",
       "      <th>Date</th>\n",
       "      <th></th>\n",
       "      <th></th>\n",
       "    </tr>\n",
       "  </thead>\n",
       "  <tbody>\n",
       "    <tr>\n",
       "      <th>2014-09-18</th>\n",
       "      <td>424.440002</td>\n",
       "      <td>427.351123</td>\n",
       "    </tr>\n",
       "    <tr>\n",
       "      <th>2014-09-19</th>\n",
       "      <td>394.795990</td>\n",
       "      <td>400.745901</td>\n",
       "    </tr>\n",
       "    <tr>\n",
       "      <th>2014-09-20</th>\n",
       "      <td>NaN</td>\n",
       "      <td>NaN</td>\n",
       "    </tr>\n",
       "    <tr>\n",
       "      <th>2014-09-21</th>\n",
       "      <td>NaN</td>\n",
       "      <td>NaN</td>\n",
       "    </tr>\n",
       "    <tr>\n",
       "      <th>2014-09-22</th>\n",
       "      <td>NaN</td>\n",
       "      <td>NaN</td>\n",
       "    </tr>\n",
       "    <tr>\n",
       "      <th>...</th>\n",
       "      <td>...</td>\n",
       "      <td>...</td>\n",
       "    </tr>\n",
       "    <tr>\n",
       "      <th>2022-02-13</th>\n",
       "      <td>NaN</td>\n",
       "      <td>NaN</td>\n",
       "    </tr>\n",
       "    <tr>\n",
       "      <th>2022-02-14</th>\n",
       "      <td>NaN</td>\n",
       "      <td>NaN</td>\n",
       "    </tr>\n",
       "    <tr>\n",
       "      <th>2022-02-15</th>\n",
       "      <td>NaN</td>\n",
       "      <td>NaN</td>\n",
       "    </tr>\n",
       "    <tr>\n",
       "      <th>2022-02-16</th>\n",
       "      <td>NaN</td>\n",
       "      <td>NaN</td>\n",
       "    </tr>\n",
       "    <tr>\n",
       "      <th>2022-02-17</th>\n",
       "      <td>40538.011719</td>\n",
       "      <td>41574.926618</td>\n",
       "    </tr>\n",
       "  </tbody>\n",
       "</table>\n",
       "<p>2710 rows × 2 columns</p>\n",
       "</div>"
      ],
      "text/plain": [
       "                   Close  Close_Prediction\n",
       "Date                                      \n",
       "2014-09-18    424.440002        427.351123\n",
       "2014-09-19    394.795990        400.745901\n",
       "2014-09-20           NaN               NaN\n",
       "2014-09-21           NaN               NaN\n",
       "2014-09-22           NaN               NaN\n",
       "...                  ...               ...\n",
       "2022-02-13           NaN               NaN\n",
       "2022-02-14           NaN               NaN\n",
       "2022-02-15           NaN               NaN\n",
       "2022-02-16           NaN               NaN\n",
       "2022-02-17  40538.011719      41574.926618\n",
       "\n",
       "[2710 rows x 2 columns]"
      ]
     },
     "execution_count": 28,
     "metadata": {},
     "output_type": "execute_result"
    }
   ],
   "source": [
    "output = pd.DataFrame(test_pred[['Date', 'Close', 'Close_Prediction']])\n",
    "output = output.reset_index()\n",
    "output = output.drop('index',axis=1)\n",
    "output.set_index('Date', inplace=True)\n",
    "output =  output.asfreq('D')\n",
    "output"
   ]
  },
  {
   "cell_type": "code",
   "execution_count": 29,
   "metadata": {
    "execution": {
     "iopub.execute_input": "2023-10-02T22:04:16.271706Z",
     "iopub.status.busy": "2023-10-02T22:04:16.271233Z",
     "iopub.status.idle": "2023-10-02T22:04:16.290679Z",
     "shell.execute_reply": "2023-10-02T22:04:16.289102Z",
     "shell.execute_reply.started": "2023-10-02T22:04:16.271662Z"
    }
   },
   "outputs": [
    {
     "name": "stdout",
     "output_type": "stream",
     "text": [
      "CSV successfully saved!\n"
     ]
    }
   ],
   "source": [
    "output.to_csv('Close_Prediction.csv', index=True)\n",
    "print(\"CSV successfully saved!\")"
   ]
  },
  {
   "cell_type": "code",
   "execution_count": null,
   "metadata": {},
   "outputs": [],
   "source": []
  },
  {
   "cell_type": "code",
   "execution_count": null,
   "metadata": {},
   "outputs": [],
   "source": []
  },
  {
   "cell_type": "code",
   "execution_count": null,
   "metadata": {},
   "outputs": [],
   "source": []
  }
 ],
 "metadata": {
  "kernelspec": {
   "display_name": "Python 3 (ipykernel)",
   "language": "python",
   "name": "python3"
  },
  "language_info": {
   "codemirror_mode": {
    "name": "ipython",
    "version": 3
   },
   "file_extension": ".py",
   "mimetype": "text/x-python",
   "name": "python",
   "nbconvert_exporter": "python",
   "pygments_lexer": "ipython3",
   "version": "3.11.5"
  }
 },
 "nbformat": 4,
 "nbformat_minor": 4
}
